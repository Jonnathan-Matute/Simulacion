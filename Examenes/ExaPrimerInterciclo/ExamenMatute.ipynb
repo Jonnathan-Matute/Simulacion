{
  "nbformat": 4,
  "nbformat_minor": 5,
  "metadata": {
    "kernelspec": {
      "display_name": "Python 3",
      "language": "python",
      "name": "python3"
    },
    "language_info": {
      "codemirror_mode": {
        "name": "ipython",
        "version": 3
      },
      "file_extension": ".py",
      "mimetype": "text/x-python",
      "name": "python",
      "nbconvert_exporter": "python",
      "pygments_lexer": "ipython3",
      "version": "3.8.3"
    },
    "colab": {
      "name": "ExamenMatute.ipynb",
      "provenance": [],
      "collapsed_sections": []
    }
  },
  "cells": [
    {
      "cell_type": "markdown",
      "metadata": {
        "id": "c024e4bd"
      },
      "source": [
        "<img src=\"https://www.universidades.com.ec/logos/original/logo-universidad-politecnica-salesiana.png\" style=\"margin: 0 auto\"/>"
      ],
      "id": "c024e4bd"
    },
    {
      "cell_type": "markdown",
      "metadata": {
        "id": "d28d754a"
      },
      "source": [
        "<h1 style=\"text-align:center;color: red\">Examen</h1>"
      ],
      "id": "d28d754a"
    },
    {
      "cell_type": "markdown",
      "metadata": {
        "id": "8cd843bd"
      },
      "source": [
        "<ul style=\"text-align:center;list-style:none\">\n",
        "    <li><strong>Autor: </strong> Jonnathan Oswaldo Matute Curillo</li>\n",
        "    <li><strong>Maestro: </strong> Diego Quisi</li>\n",
        "    <li><strong>Materia: </strong> Simulación</li>\n",
        "    <li><strong>Universidad: </strong> Universidad Politécnica Salesiana</li>\n",
        "    <li><strong>Carrera: </strong> Ciencias de la computación</li>\n",
        "</ul>"
      ],
      "id": "8cd843bd"
    },
    {
      "cell_type": "markdown",
      "source": [
        "**Implementación del Generador de Cuadrados Medios**\n",
        "\n",
        "A continuación se realiza un ejemplo practico de como implementar y ejecutar el generador de numeros pseudoaleatorios utilizando el algoritmo de cuadros medios.\n"
      ],
      "metadata": {
        "id": "C6e86azYUEir"
      },
      "id": "C6e86azYUEir"
    },
    {
      "cell_type": "markdown",
      "metadata": {
        "id": "5a78a887"
      },
      "source": [
        "-----------------"
      ],
      "id": "5a78a887"
    },
    {
      "cell_type": "code",
      "source": [
        "def cuadrados_medios(xo, digitos, iteraciones):\n",
        "  \n",
        "  lis =[]\n",
        "  semilla = int(xo)\n",
        "  aux = gP(digitos)\n",
        "  for i in range(iteraciones):\n",
        "    x= semilla**2\n",
        "    l= len(str(x))\n",
        "    u= str(x)[int(l/2)-aux[0]:int(l/2)+aux[1]]\n",
        "    r= round(int(i)/10**digitos,2)\n",
        "    lis.append(r)\n",
        "    semilla=int(u)\n",
        "  return lis"
      ],
      "metadata": {
        "id": "MYdOYQv1DkEo"
      },
      "id": "MYdOYQv1DkEo",
      "execution_count": 215,
      "outputs": []
    },
    {
      "cell_type": "markdown",
      "source": [
        "**Implementación de Congruencia Lineal**\n",
        "\n",
        "Otro de los generadores de numeros aleatorios utlizados en la actualidad son los de congruencia lineal, a continuación se implementa en python su proceso para validación"
      ],
      "metadata": {
        "id": "8LUn2hPHS1tj"
      },
      "id": "8LUn2hPHS1tj"
    },
    {
      "cell_type": "code",
      "source": [
        "def congruencia_Lineal(xo, a, b, m, iteraciones):\n",
        "  aux = 0.00\n",
        "  lis =[]\n",
        "  for i in range(iteraciones):\n",
        "    xo = (a * xo + b) % m\n",
        "    aux = round(xo/m,2)\n",
        "    lis.append(aux)\n",
        "  return lis"
      ],
      "metadata": {
        "id": "eQELH3n1KLki"
      },
      "id": "eQELH3n1KLki",
      "execution_count": 216,
      "outputs": []
    },
    {
      "cell_type": "markdown",
      "source": [
        "#Lista"
      ],
      "metadata": {
        "id": "Sh4rNff0R6ja"
      },
      "id": "Sh4rNff0R6ja"
    },
    {
      "cell_type": "code",
      "source": [
        "def lisDict(ngr, au, lis):\n",
        "    gr = []\n",
        "    aux=0.00\n",
        "    for i in range(ngr+1):\n",
        "        gr.append(round(aux,2))\n",
        "        aux=aux+au\n",
        "    a=0\n",
        "    b=1\n",
        "    ran={}\n",
        "    for i in range(len(gr)-1):\n",
        "        f=gr[a]\n",
        "        s=gr[b]\n",
        "        ran.update({str(f)+\",\" +str(s):[]})\n",
        "        for i in lis:\n",
        "            if i==0.05:\n",
        "                if i >=f and i <=s:\n",
        "                    ran[str(f)+\",\"+str(s)].append(i)\n",
        "            else:\n",
        "                if i >f and i <=s:\n",
        "                    ran[str(f)+\",\"+str(s)].append(i)\n",
        "        a=b\n",
        "        b=a+1\n",
        "    return ran"
      ],
      "metadata": {
        "id": "j9N7ul3eRjTy"
      },
      "id": "j9N7ul3eRjTy",
      "execution_count": 217,
      "outputs": []
    },
    {
      "cell_type": "code",
      "source": [
        "def gP(digitos):\n",
        "    aux1 =0\n",
        "    aux2 =0\n",
        "    if digitos%2 !=0:\n",
        "        aux1 = int(digitos/2)\n",
        "        aux2 = int(digitos/2)+1\n",
        "    else:\n",
        "        aux1 = int(digitos/2)\n",
        "        aux2 = aux1\n",
        "    return aux1,aux2"
      ],
      "metadata": {
        "id": "Ti0QrtBjQ86a"
      },
      "id": "Ti0QrtBjQ86a",
      "execution_count": 218,
      "outputs": []
    },
    {
      "cell_type": "code",
      "source": [
        "from matplotlib import pyplot as plt\n",
        "import math as mt\n",
        "\n",
        "def chiCuadrado(lis, v):\n",
        "    num = int(mt.sqrt(len(lis)))\n",
        "    d = lisDict(num,1/num, lis)\n",
        "    s = 0.00\n",
        "    print(\" Intervalo \", \"    Ei \", \"   Oi \", \" (Oi-Ei)**2/Ei\")\n",
        "    for x, it in enumerate(d.items()):\n",
        "        f = ((len(it[1])-num)**2)/num\n",
        "        s+=f\n",
        "        print(x, \" \", str(num)+\"(\"+it[0]+\")  \", len(it[1]),\"  \", f)\n",
        "\n",
        "    plt.hist(lis)\n",
        "    plt.ylabel('Frequencia')\n",
        "    plt.xlabel('valores')\n",
        "    plt.title('Chi cuadrado')\n",
        "    plt.show()\n",
        "    \n",
        "    print(\"Suma : \",s)\n",
        "    if s< v:\n",
        "        return True\n",
        "    else:\n",
        "        return False"
      ],
      "metadata": {
        "id": "XG4j14sBQWZ6"
      },
      "id": "XG4j14sBQWZ6",
      "execution_count": 219,
      "outputs": []
    },
    {
      "cell_type": "code",
      "source": [
        "  def main():\n",
        "    valor = 16.9\n",
        "    print(\"Comparacion 1 - cuadrados_medios\")\n",
        "    iteraciones = 100\n",
        "    digitos = 7\n",
        "    lista = cuadrados_medios(74731897457, digitos, iteraciones)\n",
        "    res=chiCuadrado(lista,valor)\n",
        "    print(\"Respuesta: \",res) \n",
        "    \n",
        "    print(\"\")\n",
        "    print(\"Comparacion 2 - congruencia_Linea\")\n",
        "\n",
        "    lista2 = congruencia_Lineal(7,74731897457,37747318974,19,iteraciones)\n",
        "    res2 = chiCuadrado(lista2,valor)\n",
        "    print(\"Respuesta: \",res2)"
      ],
      "metadata": {
        "id": "oQcAY6c2QgGq"
      },
      "id": "oQcAY6c2QgGq",
      "execution_count": 220,
      "outputs": []
    },
    {
      "cell_type": "code",
      "source": [
        "if __name__ == \"__main__\":\n",
        "    main()"
      ],
      "metadata": {
        "colab": {
          "base_uri": "https://localhost:8080/",
          "height": 1000
        },
        "id": "j03Yzy0yQgSh",
        "outputId": "74ce54e6-4030-4201-ff16-953e730aa2bb"
      },
      "id": "j03Yzy0yQgSh",
      "execution_count": 221,
      "outputs": [
        {
          "output_type": "stream",
          "name": "stdout",
          "text": [
            "Comparacion 1 - cuadrados_medios\n",
            " Intervalo      Ei     Oi   (Oi-Ei)**2/Ei\n",
            "0   10(0.0,0.1)   0    10.0\n",
            "1   10(0.1,0.2)   0    10.0\n",
            "2   10(0.2,0.3)   0    10.0\n",
            "3   10(0.3,0.4)   0    10.0\n",
            "4   10(0.4,0.5)   0    10.0\n",
            "5   10(0.5,0.6)   0    10.0\n",
            "6   10(0.6,0.7)   0    10.0\n",
            "7   10(0.7,0.8)   0    10.0\n",
            "8   10(0.8,0.9)   0    10.0\n",
            "9   10(0.9,1.0)   0    10.0\n"
          ]
        },
        {
          "output_type": "display_data",
          "data": {
            "image/png": "[encoded data removed]",
            "text/plain": [
              "<Figure size 432x288 with 1 Axes>"
            ]
          },
          "metadata": {
            "needs_background": "light"
          }
        },
        {
          "output_type": "stream",
          "name": "stdout",
          "text": [
            "Suma :  100.0\n",
            "Respuesta:  False\n",
            "\n",
            "Comparacion 2 - congruencia_Linea\n",
            " Intervalo      Ei     Oi   (Oi-Ei)**2/Ei\n",
            "0   10(0.0,0.1)   0    10.0\n",
            "1   10(0.1,0.2)   11    0.1\n",
            "2   10(0.2,0.3)   0    10.0\n",
            "3   10(0.3,0.4)   22    14.4\n",
            "4   10(0.4,0.5)   0    10.0\n",
            "5   10(0.5,0.6)   0    10.0\n",
            "6   10(0.6,0.7)   11    0.1\n",
            "7   10(0.7,0.8)   11    0.1\n",
            "8   10(0.8,0.9)   23    16.9\n",
            "9   10(0.9,1.0)   11    0.1\n"
          ]
        },
        {
          "output_type": "display_data",
          "data": {
            "image/png": "[encoded data removed]",
            "text/plain": [
              "<Figure size 432x288 with 1 Axes>"
            ]
          },
          "metadata": {
            "needs_background": "light"
          }
        },
        {
          "output_type": "stream",
          "name": "stdout",
          "text": [
            "Suma :  71.69999999999999\n",
            "Respuesta:  False\n"
          ]
        }
      ]
    }
  ]
}