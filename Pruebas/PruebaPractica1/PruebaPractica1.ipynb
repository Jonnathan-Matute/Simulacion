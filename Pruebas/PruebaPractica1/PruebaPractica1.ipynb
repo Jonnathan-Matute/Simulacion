{
  "nbformat": 4,
  "nbformat_minor": 5,
  "metadata": {
    "kernelspec": {
      "display_name": "Python 3",
      "language": "python",
      "name": "python3"
    },
    "language_info": {
      "codemirror_mode": {
        "name": "ipython",
        "version": 3
      },
      "file_extension": ".py",
      "mimetype": "text/x-python",
      "name": "python",
      "nbconvert_exporter": "python",
      "pygments_lexer": "ipython3",
      "version": "3.8.3"
    },
    "colab": {
      "name": "informe.ipynb",
      "provenance": []
    }
  },
  "cells": [
    {
      "cell_type": "markdown",
      "metadata": {
        "id": "c024e4bd"
      },
      "source": [
        "<img src=\"https://www.universidades.com.ec/logos/original/logo-universidad-politecnica-salesiana.png\" style=\"margin: 0 auto\"/>"
      ],
      "id": "c024e4bd"
    },
    {
      "cell_type": "markdown",
      "metadata": {
        "id": "d28d754a"
      },
      "source": [
        "<h1 style=\"text-align:center;color: red\"> Prueba Práctica Unidad 1 </h1>"
      ],
      "id": "d28d754a"
    },
    {
      "cell_type": "markdown",
      "metadata": {
        "id": "8cd843bd"
      },
      "source": [
        "<ul style=\"text-align:center;list-style:none\">\n",
        "    <li><strong>Autor: </strong> Jonnathan Oswaldo Matute Curillo</li>\n",
        "    <li><strong>Maestro: </strong> Diego Quisi</li>\n",
        "    <li><strong>Materia: </strong> Simulación</li>\n",
        "    <li><strong>Universidad: </strong> Universidad Politécnica Salesiana</li>\n",
        "    <li><strong>Carrera: </strong> Ciencias de la computación</li>\n",
        "</ul>"
      ],
      "id": "8cd843bd"
    },
    {
      "cell_type": "markdown",
      "metadata": {
        "id": "5a78a887"
      },
      "source": [
        "-----------------"
      ],
      "id": "5a78a887"
    },
    {
      "cell_type": "markdown",
      "metadata": {
        "id": "a4a50a9f"
      },
      "source": [
        "<h2 style=\"color:yellowgreen\">Introducción</h2>"
      ],
      "id": "a4a50a9f"
    },
    {
      "cell_type": "markdown",
      "metadata": {
        "id": "6afa2c1d"
      },
      "source": [
        "Diseñar y desarrollar un modelo y/o script que permita describir las personas empleadas y desempleadas por año en el Ecuador."
      ],
      "id": "6afa2c1d"
    },
    {
      "cell_type": "markdown",
      "metadata": {
        "id": "dcb23829"
      },
      "source": [
        "------------------------"
      ],
      "id": "dcb23829"
    },
    {
      "cell_type": "markdown",
      "metadata": {
        "id": "8f1bba5c"
      },
      "source": [
        "<h2 style=\"color:yellowgreen\">Librerias a importar</h2>"
      ],
      "id": "8f1bba5c"
    },
    {
      "cell_type": "markdown",
      "metadata": {
        "id": "47ad021b"
      },
      "source": [
        "**Para lectura y análisis de datos**"
      ],
      "id": "47ad021b"
    },
    {
      "cell_type": "code",
      "metadata": {
        "id": "81b4edec"
      },
      "source": [
        "import pandas as pd\n",
        "import numpy as np\n",
        "\n",
        "from datetime import datetime,timedelta"
      ],
      "id": "81b4edec",
      "execution_count": 13,
      "outputs": []
    },
    {
      "cell_type": "markdown",
      "metadata": {
        "id": "2a65d04c"
      },
      "source": [
        "**Para la realización de gráficas**"
      ],
      "id": "2a65d04c"
    },
    {
      "cell_type": "code",
      "metadata": {
        "colab": {
          "base_uri": "https://localhost:8080/",
          "height": 17
        },
        "id": "f8ae6ceb",
        "outputId": "9d32d070-54af-4800-a67c-8e64d78b45ca"
      },
      "source": [
        "import altair as alt\n",
        "import plotly.express as px\n",
        "import plotly\n",
        "plotly.offline.init_notebook_mode(connected=True)\n",
        "import seaborn as sns\n",
        "from matplotlib import pyplot as plt\n",
        "from plotly.subplots import make_subplots\n",
        "import plotly.graph_objects as go"
      ],
      "id": "f8ae6ceb",
      "execution_count": 14,
      "outputs": [
        {
          "output_type": "display_data",
          "data": {
            "text/html": [
              "        <script type=\"text/javascript\">\n",
              "        window.PlotlyConfig = {MathJaxConfig: 'local'};\n",
              "        if (window.MathJax) {MathJax.Hub.Config({SVG: {font: \"STIX-Web\"}});}\n",
              "        if (typeof require !== 'undefined') {\n",
              "        require.undef(\"plotly\");\n",
              "        requirejs.config({\n",
              "            paths: {\n",
              "                'plotly': ['https://cdn.plot.ly/plotly-latest.min']\n",
              "            }\n",
              "        });\n",
              "        require(['plotly'], function(Plotly) {\n",
              "            window._Plotly = Plotly;\n",
              "        });\n",
              "        }\n",
              "        </script>\n",
              "        "
            ]
          },
          "metadata": {}
        }
      ]
    },
    {
      "cell_type": "markdown",
      "metadata": {
        "id": "ea3863b5"
      },
      "source": [
        "**Librerias para realizar el modelo de regresión**"
      ],
      "id": "ea3863b5"
    },
    {
      "cell_type": "code",
      "metadata": {
        "id": "35f62807"
      },
      "source": [
        "from sklearn.model_selection import train_test_split\n",
        "from sklearn.linear_model import LinearRegression\n",
        "from sklearn.pipeline import Pipeline\n",
        "from sklearn.preprocessing import PolynomialFeatures"
      ],
      "id": "35f62807",
      "execution_count": 15,
      "outputs": []
    },
    {
      "cell_type": "markdown",
      "metadata": {
        "id": "b2a6adc5"
      },
      "source": [
        "**Librerias para métricas de calidad**"
      ],
      "id": "b2a6adc5"
    },
    {
      "cell_type": "code",
      "metadata": {
        "id": "8272ad82"
      },
      "source": [
        "from sklearn.metrics import mean_squared_error"
      ],
      "id": "8272ad82",
      "execution_count": 16,
      "outputs": []
    },
    {
      "cell_type": "markdown",
      "metadata": {
        "id": "37ec73a3"
      },
      "source": [
        "**Mejorar visualización de datos**"
      ],
      "id": "37ec73a3"
    },
    {
      "cell_type": "code",
      "metadata": {
        "id": "45d06ab6"
      },
      "source": [
        "pd.options.display.float_format='{:,.2f}'.format\n",
        "import warnings\n",
        "warnings.simplefilter(\"ignore\")"
      ],
      "id": "45d06ab6",
      "execution_count": 17,
      "outputs": []
    },
    {
      "cell_type": "markdown",
      "metadata": {
        "id": "1068afe0"
      },
      "source": [
        "-----------------------"
      ],
      "id": "1068afe0"
    },
    {
      "cell_type": "markdown",
      "metadata": {
        "id": "52435720"
      },
      "source": [
        "<h2 style=\"color:yellowgreen\">Lectura de datos</h2>"
      ],
      "id": "52435720"
    },
    {
      "cell_type": "markdown",
      "metadata": {
        "id": "396dd009"
      },
      "source": [
        "En este proceso, realizamos la lectura de los datos que tenemos para poder realizar un análisis. En este caso, tenemos datos de la poblacion, a continuación mostramos la data."
      ],
      "id": "396dd009"
    },
    {
      "cell_type": "code",
      "metadata": {
        "colab": {
          "base_uri": "https://localhost:8080/",
          "height": 423
        },
        "id": "c61d4504",
        "outputId": "b0081c94-4a7b-4177-cbf8-336c98e791c7"
      },
      "source": [
        "poblacion = pd.read_csv('1.Poblaciones.csv',encoding='latin1', sep=';',skiprows=2)\n",
        "sectorizacion_empleo = pd.read_csv('4. Sectorización del empleo.csv', sep = ';',encoding='latin1', skiprows = 1)\n",
        "poblacion = poblacion.drop(poblacion.columns[[8,9,10,11,12,13,14,15,16,17,18]],axis=1)\n",
        "poblacion.rename(columns ={'Unnamed: 0':'Encuesta','Unnamed: 1':'Periodo','Unnamed: 2':'Indicadores'}, inplace = True)\n",
        "poblacion"
      ],
      "id": "c61d4504",
      "execution_count": 80,
      "outputs": [
        {
          "output_type": "execute_result",
          "data": {
            "text/html": [
              "<div>\n",
              "<style scoped>\n",
              "    .dataframe tbody tr th:only-of-type {\n",
              "        vertical-align: middle;\n",
              "    }\n",
              "\n",
              "    .dataframe tbody tr th {\n",
              "        vertical-align: top;\n",
              "    }\n",
              "\n",
              "    .dataframe thead th {\n",
              "        text-align: right;\n",
              "    }\n",
              "</style>\n",
              "<table border=\"1\" class=\"dataframe\">\n",
              "  <thead>\n",
              "    <tr style=\"text-align: right;\">\n",
              "      <th></th>\n",
              "      <th>Encuesta</th>\n",
              "      <th>Periodo</th>\n",
              "      <th>Indicadores</th>\n",
              "      <th>Total</th>\n",
              "      <th>Urbana</th>\n",
              "      <th>Rural</th>\n",
              "      <th>Hombre</th>\n",
              "      <th>Mujer</th>\n",
              "    </tr>\n",
              "  </thead>\n",
              "  <tbody>\n",
              "    <tr>\n",
              "      <th>0</th>\n",
              "      <td>ENEMDU</td>\n",
              "      <td>dic-07</td>\n",
              "      <td>Población Total</td>\n",
              "      <td>13.682.302</td>\n",
              "      <td>9.066.209</td>\n",
              "      <td>4.616.093</td>\n",
              "      <td>6.768.646</td>\n",
              "      <td>6.913.656</td>\n",
              "    </tr>\n",
              "    <tr>\n",
              "      <th>1</th>\n",
              "      <td>ENEMDU</td>\n",
              "      <td>dic-07</td>\n",
              "      <td>Población menor de 15 años</td>\n",
              "      <td>4.372.812</td>\n",
              "      <td>2.723.124</td>\n",
              "      <td>1.649.688</td>\n",
              "      <td>2.226.618</td>\n",
              "      <td>2.146.194</td>\n",
              "    </tr>\n",
              "    <tr>\n",
              "      <th>2</th>\n",
              "      <td>ENEMDU</td>\n",
              "      <td>dic-07</td>\n",
              "      <td>Población en Edad de Trabajar (PET)</td>\n",
              "      <td>9.309.490</td>\n",
              "      <td>6.343.085</td>\n",
              "      <td>2.966.404</td>\n",
              "      <td>4.542.028</td>\n",
              "      <td>4.767.462</td>\n",
              "    </tr>\n",
              "    <tr>\n",
              "      <th>3</th>\n",
              "      <td>ENEMDU</td>\n",
              "      <td>dic-07</td>\n",
              "      <td>Población Económicamente Activa</td>\n",
              "      <td>6.336.029</td>\n",
              "      <td>4.227.702</td>\n",
              "      <td>2.108.328</td>\n",
              "      <td>3.777.232</td>\n",
              "      <td>2.558.798</td>\n",
              "    </tr>\n",
              "    <tr>\n",
              "      <th>4</th>\n",
              "      <td>ENEMDU</td>\n",
              "      <td>dic-07</td>\n",
              "      <td>Empleo</td>\n",
              "      <td>6.019.332</td>\n",
              "      <td>3.971.040</td>\n",
              "      <td>2.048.292</td>\n",
              "      <td>3.632.314</td>\n",
              "      <td>2.387.018</td>\n",
              "    </tr>\n",
              "    <tr>\n",
              "      <th>...</th>\n",
              "      <td>...</td>\n",
              "      <td>...</td>\n",
              "      <td>...</td>\n",
              "      <td>...</td>\n",
              "      <td>...</td>\n",
              "      <td>...</td>\n",
              "      <td>...</td>\n",
              "      <td>...</td>\n",
              "    </tr>\n",
              "    <tr>\n",
              "      <th>895</th>\n",
              "      <td>ENEMDU*</td>\n",
              "      <td>oct-21</td>\n",
              "      <td>Desempleo Abierto</td>\n",
              "      <td>336.101</td>\n",
              "      <td>291.606</td>\n",
              "      <td>44.495</td>\n",
              "      <td>150.276</td>\n",
              "      <td>185.824</td>\n",
              "    </tr>\n",
              "    <tr>\n",
              "      <th>896</th>\n",
              "      <td>ENEMDU*</td>\n",
              "      <td>oct-21</td>\n",
              "      <td>Desempleo Oculto</td>\n",
              "      <td>48.103</td>\n",
              "      <td>27.600</td>\n",
              "      <td>20.503</td>\n",
              "      <td>25.975</td>\n",
              "      <td>22.128</td>\n",
              "    </tr>\n",
              "    <tr>\n",
              "      <th>897</th>\n",
              "      <td>ENEMDU*</td>\n",
              "      <td>oct-21</td>\n",
              "      <td>Desempleo Cesante</td>\n",
              "      <td>298.846</td>\n",
              "      <td>257.856</td>\n",
              "      <td>40.991</td>\n",
              "      <td>140.223</td>\n",
              "      <td>158.623</td>\n",
              "    </tr>\n",
              "    <tr>\n",
              "      <th>898</th>\n",
              "      <td>ENEMDU*</td>\n",
              "      <td>oct-21</td>\n",
              "      <td>Desempleo Nuevo</td>\n",
              "      <td>85.358</td>\n",
              "      <td>61.351</td>\n",
              "      <td>24.007</td>\n",
              "      <td>36.028</td>\n",
              "      <td>49.330</td>\n",
              "    </tr>\n",
              "    <tr>\n",
              "      <th>899</th>\n",
              "      <td>ENEMDU*</td>\n",
              "      <td>oct-21</td>\n",
              "      <td>Población Económicamente Inactiva</td>\n",
              "      <td>4.330.241</td>\n",
              "      <td>3.307.420</td>\n",
              "      <td>1.022.821</td>\n",
              "      <td>1.324.745</td>\n",
              "      <td>3.005.495</td>\n",
              "    </tr>\n",
              "  </tbody>\n",
              "</table>\n",
              "<p>900 rows × 8 columns</p>\n",
              "</div>"
            ],
            "text/plain": [
              "    Encuesta Periodo  ...       Hombre        Mujer\n",
              "0     ENEMDU  dic-07  ...    6.768.646    6.913.656\n",
              "1     ENEMDU  dic-07  ...    2.226.618    2.146.194\n",
              "2     ENEMDU  dic-07  ...    4.542.028    4.767.462\n",
              "3     ENEMDU  dic-07  ...    3.777.232    2.558.798\n",
              "4     ENEMDU  dic-07  ...    3.632.314    2.387.018\n",
              "..       ...     ...  ...          ...          ...\n",
              "895  ENEMDU*  oct-21  ...     150.276      185.824 \n",
              "896  ENEMDU*  oct-21  ...      25.975       22.128 \n",
              "897  ENEMDU*  oct-21  ...     140.223      158.623 \n",
              "898  ENEMDU*  oct-21  ...      36.028       49.330 \n",
              "899  ENEMDU*  oct-21  ...   1.324.745    3.005.495 \n",
              "\n",
              "[900 rows x 8 columns]"
            ]
          },
          "metadata": {},
          "execution_count": 80
        }
      ]
    },
    {
      "cell_type": "markdown",
      "metadata": {
        "id": "a338d0fb"
      },
      "source": [
        "<h4 style=\"color:orange\">Datos de la población</h4>\n"
      ],
      "id": "a338d0fb"
    },
    {
      "cell_type": "markdown",
      "metadata": {
        "id": "6b90f0ad"
      },
      "source": [
        "En este conjunto de datos tenemos las siguientes características:\n",
        "* **periodo:** fecha\n",
        "* **total:** total de lapoblacion\n",
        "* **tipo de poblacion:** Urbana, rural, mujer o hombre"
      ],
      "id": "6b90f0ad"
    },
    {
      "cell_type": "markdown",
      "metadata": {
        "id": "1462e0a1"
      },
      "source": [
        "<h2 style=\"color:yellowgreen\">Transformación de datos</h2>"
      ],
      "id": "1462e0a1"
    },
    {
      "cell_type": "code",
      "metadata": {
        "id": "12342577"
      },
      "source": [
        "def _transform_data_date(df,column_name):\n",
        "    df[column_name]= pd.to_datetime(df[column_name],format='%d/%m/%Y')\n",
        "    return df   \n",
        "\n",
        "def _obtain_days_from_date(df,column_name,start_date):\n",
        "    format_date = '%Y-%m-%d'\n",
        "    df['day']=df[column_name].apply(lambda x : (x - datetime.strptime(start_date, format_date)).days +1)\n",
        "    return df\n",
        "\n",
        "def _save_data(df,filename):\n",
        "    df.to_csv('1.Poblaciones.csv'.format(filename))"
      ],
      "id": "12342577",
      "execution_count": 19,
      "outputs": []
    },
    {
      "cell_type": "code",
      "metadata": {
        "id": "Ru0c-qaQYpQS"
      },
      "source": [
        "def eliminarPuntos(x):\n",
        "  return int(x.replace(\".\",\"\"))"
      ],
      "id": "Ru0c-qaQYpQS",
      "execution_count": 24,
      "outputs": []
    },
    {
      "cell_type": "code",
      "metadata": {
        "id": "hOhFzXN4YruC"
      },
      "source": [
        "poblacion[\"Total\"] =  poblacion[\"Total\"].apply(eliminarPuntos)"
      ],
      "id": "hOhFzXN4YruC",
      "execution_count": 25,
      "outputs": []
    },
    {
      "cell_type": "code",
      "metadata": {
        "id": "TnuunKV0YwDq"
      },
      "source": [
        "def getAnio(x):\n",
        "  nu= x.split(\"-\")\n",
        "  return nu[1]"
      ],
      "id": "TnuunKV0YwDq",
      "execution_count": 26,
      "outputs": []
    },
    {
      "cell_type": "code",
      "metadata": {
        "id": "gjHKVtoWY2Qg"
      },
      "source": [
        "poblacion[\"Periodo\"] = poblacion[\"Periodo\"].apply(getAnio)"
      ],
      "id": "gjHKVtoWY2Qg",
      "execution_count": 27,
      "outputs": []
    },
    {
      "cell_type": "markdown",
      "metadata": {
        "id": "351df7f1"
      },
      "source": [
        "<h2 style=\"color:yellowgreen\">Personas con empleo y desempleo por año</h2>"
      ],
      "id": "351df7f1"
    },
    {
      "cell_type": "code",
      "metadata": {
        "colab": {
          "base_uri": "https://localhost:8080/",
          "height": 423
        },
        "id": "fzIQaGSNYgWC",
        "outputId": "9acf8310-f471-480c-a2ef-44023a7531d2"
      },
      "source": [
        "dataPoblacion = poblacion[['Periodo','Indicadores','Total']].groupby(['Periodo','Indicadores'], as_index=False).mean()\n",
        "dataPoblacion"
      ],
      "id": "fzIQaGSNYgWC",
      "execution_count": 28,
      "outputs": [
        {
          "output_type": "execute_result",
          "data": {
            "text/html": [
              "<div>\n",
              "<style scoped>\n",
              "    .dataframe tbody tr th:only-of-type {\n",
              "        vertical-align: middle;\n",
              "    }\n",
              "\n",
              "    .dataframe tbody tr th {\n",
              "        vertical-align: top;\n",
              "    }\n",
              "\n",
              "    .dataframe thead th {\n",
              "        text-align: right;\n",
              "    }\n",
              "</style>\n",
              "<table border=\"1\" class=\"dataframe\">\n",
              "  <thead>\n",
              "    <tr style=\"text-align: right;\">\n",
              "      <th></th>\n",
              "      <th>Periodo</th>\n",
              "      <th>Indicadores</th>\n",
              "      <th>Total</th>\n",
              "    </tr>\n",
              "  </thead>\n",
              "  <tbody>\n",
              "    <tr>\n",
              "      <th>0</th>\n",
              "      <td>07</td>\n",
              "      <td>Desempleo</td>\n",
              "      <td>316,697.00</td>\n",
              "    </tr>\n",
              "    <tr>\n",
              "      <th>1</th>\n",
              "      <td>07</td>\n",
              "      <td>Desempleo Abierto</td>\n",
              "      <td>193,225.00</td>\n",
              "    </tr>\n",
              "    <tr>\n",
              "      <th>2</th>\n",
              "      <td>07</td>\n",
              "      <td>Desempleo Cesante</td>\n",
              "      <td>190,044.00</td>\n",
              "    </tr>\n",
              "    <tr>\n",
              "      <th>3</th>\n",
              "      <td>07</td>\n",
              "      <td>Desempleo Nuevo</td>\n",
              "      <td>126,653.00</td>\n",
              "    </tr>\n",
              "    <tr>\n",
              "      <th>4</th>\n",
              "      <td>07</td>\n",
              "      <td>Desempleo Oculto</td>\n",
              "      <td>123,472.00</td>\n",
              "    </tr>\n",
              "    <tr>\n",
              "      <th>...</th>\n",
              "      <td>...</td>\n",
              "      <td>...</td>\n",
              "      <td>...</td>\n",
              "    </tr>\n",
              "    <tr>\n",
              "      <th>266</th>\n",
              "      <td>21</td>\n",
              "      <td>Población en Edad de Trabajar (PET)</td>\n",
              "      <td>12,655,772.80</td>\n",
              "    </tr>\n",
              "    <tr>\n",
              "      <th>267</th>\n",
              "      <td>21</td>\n",
              "      <td>Población menor de 15 años</td>\n",
              "      <td>5,150,507.20</td>\n",
              "    </tr>\n",
              "    <tr>\n",
              "      <th>268</th>\n",
              "      <td>21</td>\n",
              "      <td>Subempleo</td>\n",
              "      <td>1,933,593.10</td>\n",
              "    </tr>\n",
              "    <tr>\n",
              "      <th>269</th>\n",
              "      <td>21</td>\n",
              "      <td>Subempleo por insuficiencia de ingresos</td>\n",
              "      <td>211,003.90</td>\n",
              "    </tr>\n",
              "    <tr>\n",
              "      <th>270</th>\n",
              "      <td>21</td>\n",
              "      <td>Subempleo por insuficiencia de tiempo de trabajo</td>\n",
              "      <td>1,722,589.20</td>\n",
              "    </tr>\n",
              "  </tbody>\n",
              "</table>\n",
              "<p>271 rows × 3 columns</p>\n",
              "</div>"
            ],
            "text/plain": [
              "    Periodo                                       Indicadores         Total\n",
              "0        07                                         Desempleo    316,697.00\n",
              "1        07                                 Desempleo Abierto    193,225.00\n",
              "2        07                                 Desempleo Cesante    190,044.00\n",
              "3        07                                   Desempleo Nuevo    126,653.00\n",
              "4        07                                  Desempleo Oculto    123,472.00\n",
              "..      ...                                               ...           ...\n",
              "266      21               Población en Edad de Trabajar (PET) 12,655,772.80\n",
              "267      21                        Población menor de 15 años  5,150,507.20\n",
              "268      21                                         Subempleo  1,933,593.10\n",
              "269      21           Subempleo por insuficiencia de ingresos    211,003.90\n",
              "270      21  Subempleo por insuficiencia de tiempo de trabajo  1,722,589.20\n",
              "\n",
              "[271 rows x 3 columns]"
            ]
          },
          "metadata": {},
          "execution_count": 28
        }
      ]
    },
    {
      "cell_type": "code",
      "metadata": {
        "colab": {
          "base_uri": "https://localhost:8080/",
          "height": 990
        },
        "id": "Hw7vEOYsIpQw",
        "outputId": "4e01f2f0-fe07-4de7-8eef-d54ca1a5b32c"
      },
      "source": [
        "indicadores = dataPoblacion.query('Indicadores==\"Empleo\" | Indicadores==\"Desempleo\"')\n",
        "indicadores"
      ],
      "id": "Hw7vEOYsIpQw",
      "execution_count": 29,
      "outputs": [
        {
          "output_type": "execute_result",
          "data": {
            "text/html": [
              "<div>\n",
              "<style scoped>\n",
              "    .dataframe tbody tr th:only-of-type {\n",
              "        vertical-align: middle;\n",
              "    }\n",
              "\n",
              "    .dataframe tbody tr th {\n",
              "        vertical-align: top;\n",
              "    }\n",
              "\n",
              "    .dataframe thead th {\n",
              "        text-align: right;\n",
              "    }\n",
              "</style>\n",
              "<table border=\"1\" class=\"dataframe\">\n",
              "  <thead>\n",
              "    <tr style=\"text-align: right;\">\n",
              "      <th></th>\n",
              "      <th>Periodo</th>\n",
              "      <th>Indicadores</th>\n",
              "      <th>Total</th>\n",
              "    </tr>\n",
              "  </thead>\n",
              "  <tbody>\n",
              "    <tr>\n",
              "      <th>0</th>\n",
              "      <td>07</td>\n",
              "      <td>Desempleo</td>\n",
              "      <td>316,697.00</td>\n",
              "    </tr>\n",
              "    <tr>\n",
              "      <th>5</th>\n",
              "      <td>07</td>\n",
              "      <td>Empleo</td>\n",
              "      <td>6,019,332.00</td>\n",
              "    </tr>\n",
              "    <tr>\n",
              "      <th>18</th>\n",
              "      <td>08</td>\n",
              "      <td>Desempleo</td>\n",
              "      <td>362,084.50</td>\n",
              "    </tr>\n",
              "    <tr>\n",
              "      <th>23</th>\n",
              "      <td>08</td>\n",
              "      <td>Empleo</td>\n",
              "      <td>6,125,310.00</td>\n",
              "    </tr>\n",
              "    <tr>\n",
              "      <th>36</th>\n",
              "      <td>09</td>\n",
              "      <td>Desempleo</td>\n",
              "      <td>423,802.00</td>\n",
              "    </tr>\n",
              "    <tr>\n",
              "      <th>41</th>\n",
              "      <td>09</td>\n",
              "      <td>Empleo</td>\n",
              "      <td>6,125,135.00</td>\n",
              "    </tr>\n",
              "    <tr>\n",
              "      <th>54</th>\n",
              "      <td>10</td>\n",
              "      <td>Desempleo</td>\n",
              "      <td>365,672.50</td>\n",
              "    </tr>\n",
              "    <tr>\n",
              "      <th>59</th>\n",
              "      <td>10</td>\n",
              "      <td>Empleo</td>\n",
              "      <td>6,143,685.50</td>\n",
              "    </tr>\n",
              "    <tr>\n",
              "      <th>72</th>\n",
              "      <td>11</td>\n",
              "      <td>Desempleo</td>\n",
              "      <td>302,996.00</td>\n",
              "    </tr>\n",
              "    <tr>\n",
              "      <th>77</th>\n",
              "      <td>11</td>\n",
              "      <td>Empleo</td>\n",
              "      <td>6,264,709.00</td>\n",
              "    </tr>\n",
              "    <tr>\n",
              "      <th>90</th>\n",
              "      <td>12</td>\n",
              "      <td>Desempleo</td>\n",
              "      <td>279,372.50</td>\n",
              "    </tr>\n",
              "    <tr>\n",
              "      <th>95</th>\n",
              "      <td>12</td>\n",
              "      <td>Empleo</td>\n",
              "      <td>6,506,555.50</td>\n",
              "    </tr>\n",
              "    <tr>\n",
              "      <th>108</th>\n",
              "      <td>13</td>\n",
              "      <td>Desempleo</td>\n",
              "      <td>281,348.00</td>\n",
              "    </tr>\n",
              "    <tr>\n",
              "      <th>113</th>\n",
              "      <td>13</td>\n",
              "      <td>Empleo</td>\n",
              "      <td>6,695,018.00</td>\n",
              "    </tr>\n",
              "    <tr>\n",
              "      <th>126</th>\n",
              "      <td>14</td>\n",
              "      <td>Desempleo</td>\n",
              "      <td>304,555.00</td>\n",
              "    </tr>\n",
              "    <tr>\n",
              "      <th>131</th>\n",
              "      <td>14</td>\n",
              "      <td>Empleo</td>\n",
              "      <td>6,784,413.75</td>\n",
              "    </tr>\n",
              "    <tr>\n",
              "      <th>144</th>\n",
              "      <td>15</td>\n",
              "      <td>Desempleo</td>\n",
              "      <td>324,618.00</td>\n",
              "    </tr>\n",
              "    <tr>\n",
              "      <th>149</th>\n",
              "      <td>15</td>\n",
              "      <td>Empleo</td>\n",
              "      <td>7,151,139.25</td>\n",
              "    </tr>\n",
              "    <tr>\n",
              "      <th>162</th>\n",
              "      <td>16</td>\n",
              "      <td>Desempleo</td>\n",
              "      <td>423,871.75</td>\n",
              "    </tr>\n",
              "    <tr>\n",
              "      <th>167</th>\n",
              "      <td>16</td>\n",
              "      <td>Empleo</td>\n",
              "      <td>7,482,333.75</td>\n",
              "    </tr>\n",
              "    <tr>\n",
              "      <th>180</th>\n",
              "      <td>17</td>\n",
              "      <td>Desempleo</td>\n",
              "      <td>358,466.50</td>\n",
              "    </tr>\n",
              "    <tr>\n",
              "      <th>185</th>\n",
              "      <td>17</td>\n",
              "      <td>Empleo</td>\n",
              "      <td>7,766,294.00</td>\n",
              "    </tr>\n",
              "    <tr>\n",
              "      <th>199</th>\n",
              "      <td>18</td>\n",
              "      <td>Desempleo</td>\n",
              "      <td>330,265.75</td>\n",
              "    </tr>\n",
              "    <tr>\n",
              "      <th>204</th>\n",
              "      <td>18</td>\n",
              "      <td>Empleo</td>\n",
              "      <td>7,778,951.00</td>\n",
              "    </tr>\n",
              "    <tr>\n",
              "      <th>217</th>\n",
              "      <td>19</td>\n",
              "      <td>Desempleo</td>\n",
              "      <td>365,105.75</td>\n",
              "    </tr>\n",
              "    <tr>\n",
              "      <th>222</th>\n",
              "      <td>19</td>\n",
              "      <td>Empleo</td>\n",
              "      <td>7,853,174.75</td>\n",
              "    </tr>\n",
              "    <tr>\n",
              "      <th>235</th>\n",
              "      <td>20</td>\n",
              "      <td>Desempleo</td>\n",
              "      <td>456,457.50</td>\n",
              "    </tr>\n",
              "    <tr>\n",
              "      <th>240</th>\n",
              "      <td>20</td>\n",
              "      <td>Empleo</td>\n",
              "      <td>7,673,343.25</td>\n",
              "    </tr>\n",
              "    <tr>\n",
              "      <th>253</th>\n",
              "      <td>21</td>\n",
              "      <td>Desempleo</td>\n",
              "      <td>431,402.70</td>\n",
              "    </tr>\n",
              "    <tr>\n",
              "      <th>258</th>\n",
              "      <td>21</td>\n",
              "      <td>Empleo</td>\n",
              "      <td>7,917,790.10</td>\n",
              "    </tr>\n",
              "  </tbody>\n",
              "</table>\n",
              "</div>"
            ],
            "text/plain": [
              "    Periodo Indicadores        Total\n",
              "0        07   Desempleo   316,697.00\n",
              "5        07      Empleo 6,019,332.00\n",
              "18       08   Desempleo   362,084.50\n",
              "23       08      Empleo 6,125,310.00\n",
              "36       09   Desempleo   423,802.00\n",
              "41       09      Empleo 6,125,135.00\n",
              "54       10   Desempleo   365,672.50\n",
              "59       10      Empleo 6,143,685.50\n",
              "72       11   Desempleo   302,996.00\n",
              "77       11      Empleo 6,264,709.00\n",
              "90       12   Desempleo   279,372.50\n",
              "95       12      Empleo 6,506,555.50\n",
              "108      13   Desempleo   281,348.00\n",
              "113      13      Empleo 6,695,018.00\n",
              "126      14   Desempleo   304,555.00\n",
              "131      14      Empleo 6,784,413.75\n",
              "144      15   Desempleo   324,618.00\n",
              "149      15      Empleo 7,151,139.25\n",
              "162      16   Desempleo   423,871.75\n",
              "167      16      Empleo 7,482,333.75\n",
              "180      17   Desempleo   358,466.50\n",
              "185      17      Empleo 7,766,294.00\n",
              "199      18   Desempleo   330,265.75\n",
              "204      18      Empleo 7,778,951.00\n",
              "217      19   Desempleo   365,105.75\n",
              "222      19      Empleo 7,853,174.75\n",
              "235      20   Desempleo   456,457.50\n",
              "240      20      Empleo 7,673,343.25\n",
              "253      21   Desempleo   431,402.70\n",
              "258      21      Empleo 7,917,790.10"
            ]
          },
          "metadata": {},
          "execution_count": 29
        }
      ]
    },
    {
      "cell_type": "markdown",
      "metadata": {
        "id": "c207913f"
      },
      "source": [
        "<h2 style=\"color:yellowgreen\">Personas con empleo por año</h2>\n",
        "\n"
      ],
      "id": "c207913f"
    },
    {
      "cell_type": "code",
      "metadata": {
        "colab": {
          "base_uri": "https://localhost:8080/",
          "height": 513
        },
        "id": "632d7b8a",
        "outputId": "4d47e092-a3ae-4410-e36a-cc52be5753cb"
      },
      "source": [
        "empleo = indicadores.query('Indicadores==\"Empleo\" ')\n",
        "desempleo = indicadores.query('Indicadores==\"Desempleo\" ')\n",
        "\n",
        "fig, ax = plt.subplots(figsize =(12, 7))\n",
        "plt.bar( empleo[\"Periodo\"],empleo[\"Total\"])\n",
        "\n",
        "try:\n",
        "    plt.ticklabel_format(axis='y', style='plain')\n",
        "except AttributeError:\n",
        "    print('')\n",
        "plt.title('Empleados por Año')\n",
        "plt.xlabel('Año')\n",
        "plt.ylabel('Cantidad de Empleados')\n",
        "plt.grid(linestyle='--', linewidth=0.4)\n",
        "for index,data in enumerate(empleo[\"Total\"]):\n",
        "    plt.text(x=index , y =data+1 , s=f\"{data}\" , fontdict=dict(fontsize=8), ha='center', color='green', va='bottom')\n",
        "plt.tight_layout()\n",
        "plt.show()"
      ],
      "id": "632d7b8a",
      "execution_count": 30,
      "outputs": [
        {
          "output_type": "display_data",
          "data": {
            "image/png": "[encoded data removed]",
            "text/plain": [
              "<Figure size 864x504 with 1 Axes>"
            ]
          },
          "metadata": {
            "needs_background": "light"
          }
        }
      ]
    },
    {
      "cell_type": "markdown",
      "metadata": {
        "id": "JkqeyKl5JYRw"
      },
      "source": [
        "<h2 style=\"color:yellowgreen\">Personas con desempleo por año</h2>"
      ],
      "id": "JkqeyKl5JYRw"
    },
    {
      "cell_type": "code",
      "metadata": {
        "colab": {
          "base_uri": "https://localhost:8080/",
          "height": 657
        },
        "id": "pkTPEZlQJbfQ",
        "outputId": "63c8b8ea-864f-40a0-dc12-90d2b9742cff"
      },
      "source": [
        "fig, ax = plt.subplots(figsize =(16, 9))\n",
        "plt.bar(desempleo[\"Periodo\"],desempleo[\"Total\"])\n",
        "\n",
        "try:\n",
        "    plt.ticklabel_format(axis='y', style='plain')\n",
        "except AttributeError:\n",
        "    print('')\n",
        "plt.title('Personas con desempleo por Año')\n",
        "plt.xlabel('Año')\n",
        "plt.ylabel('Cantidad de dempleados')\n",
        "plt.grid(linestyle='--', linewidth=0.4)\n",
        "for index,data in enumerate(desempleo[\"Total\"]):\n",
        "    plt.text(x=index , y =data+1 , s=f\"{data}\" , fontdict=dict(fontsize=10), ha='center', va='bottom')\n",
        "plt.tight_layout()\n",
        "plt.show()"
      ],
      "id": "pkTPEZlQJbfQ",
      "execution_count": 31,
      "outputs": [
        {
          "output_type": "display_data",
          "data": {
            "image/png": "[encoded data removed]",
            "text/plain": [
              "<Figure size 1152x648 with 1 Axes>"
            ]
          },
          "metadata": {
            "needs_background": "light"
          }
        }
      ]
    },
    {
      "cell_type": "markdown",
      "metadata": {
        "id": "jqIIOBlQJjtt"
      },
      "source": [
        "<h2 style=\"color:yellowgreen\">Generar histogramas subempleo, empleo pleno y empleo no pleno por año</h2>"
      ],
      "id": "jqIIOBlQJjtt"
    },
    {
      "cell_type": "code",
      "metadata": {
        "colab": {
          "base_uri": "https://localhost:8080/",
          "height": 1000
        },
        "id": "gkdBnFtoKEpx",
        "outputId": "3978a833-eab0-45c6-a164-541aad921dd5"
      },
      "source": [
        "indicadores = dataPoblacion.query('Indicadores==\"Subempleo\" | Indicadores==\"Empleo Adecuado/Pleno\" | Indicadores==\"Otro Empleo no pleno\"')\n",
        "indicadores"
      ],
      "id": "gkdBnFtoKEpx",
      "execution_count": 32,
      "outputs": [
        {
          "output_type": "execute_result",
          "data": {
            "text/html": [
              "<div>\n",
              "<style scoped>\n",
              "    .dataframe tbody tr th:only-of-type {\n",
              "        vertical-align: middle;\n",
              "    }\n",
              "\n",
              "    .dataframe tbody tr th {\n",
              "        vertical-align: top;\n",
              "    }\n",
              "\n",
              "    .dataframe thead th {\n",
              "        text-align: right;\n",
              "    }\n",
              "</style>\n",
              "<table border=\"1\" class=\"dataframe\">\n",
              "  <thead>\n",
              "    <tr style=\"text-align: right;\">\n",
              "      <th></th>\n",
              "      <th>Periodo</th>\n",
              "      <th>Indicadores</th>\n",
              "      <th>Total</th>\n",
              "    </tr>\n",
              "  </thead>\n",
              "  <tbody>\n",
              "    <tr>\n",
              "      <th>6</th>\n",
              "      <td>07</td>\n",
              "      <td>Empleo Adecuado/Pleno</td>\n",
              "      <td>2,737,158.00</td>\n",
              "    </tr>\n",
              "    <tr>\n",
              "      <th>9</th>\n",
              "      <td>07</td>\n",
              "      <td>Otro Empleo no pleno</td>\n",
              "      <td>1,504,000.00</td>\n",
              "    </tr>\n",
              "    <tr>\n",
              "      <th>15</th>\n",
              "      <td>07</td>\n",
              "      <td>Subempleo</td>\n",
              "      <td>1,155,872.00</td>\n",
              "    </tr>\n",
              "    <tr>\n",
              "      <th>24</th>\n",
              "      <td>08</td>\n",
              "      <td>Empleo Adecuado/Pleno</td>\n",
              "      <td>2,804,627.00</td>\n",
              "    </tr>\n",
              "    <tr>\n",
              "      <th>27</th>\n",
              "      <td>08</td>\n",
              "      <td>Otro Empleo no pleno</td>\n",
              "      <td>1,669,021.00</td>\n",
              "    </tr>\n",
              "    <tr>\n",
              "      <th>33</th>\n",
              "      <td>08</td>\n",
              "      <td>Subempleo</td>\n",
              "      <td>1,044,338.50</td>\n",
              "    </tr>\n",
              "    <tr>\n",
              "      <th>42</th>\n",
              "      <td>09</td>\n",
              "      <td>Empleo Adecuado/Pleno</td>\n",
              "      <td>2,565,691.00</td>\n",
              "    </tr>\n",
              "    <tr>\n",
              "      <th>45</th>\n",
              "      <td>09</td>\n",
              "      <td>Otro Empleo no pleno</td>\n",
              "      <td>1,778,578.00</td>\n",
              "    </tr>\n",
              "    <tr>\n",
              "      <th>51</th>\n",
              "      <td>09</td>\n",
              "      <td>Subempleo</td>\n",
              "      <td>1,071,615.00</td>\n",
              "    </tr>\n",
              "    <tr>\n",
              "      <th>60</th>\n",
              "      <td>10</td>\n",
              "      <td>Empleo Adecuado/Pleno</td>\n",
              "      <td>2,795,537.50</td>\n",
              "    </tr>\n",
              "    <tr>\n",
              "      <th>63</th>\n",
              "      <td>10</td>\n",
              "      <td>Otro Empleo no pleno</td>\n",
              "      <td>1,788,790.50</td>\n",
              "    </tr>\n",
              "    <tr>\n",
              "      <th>69</th>\n",
              "      <td>10</td>\n",
              "      <td>Subempleo</td>\n",
              "      <td>965,260.50</td>\n",
              "    </tr>\n",
              "    <tr>\n",
              "      <th>78</th>\n",
              "      <td>11</td>\n",
              "      <td>Empleo Adecuado/Pleno</td>\n",
              "      <td>2,893,045.50</td>\n",
              "    </tr>\n",
              "    <tr>\n",
              "      <th>81</th>\n",
              "      <td>11</td>\n",
              "      <td>Otro Empleo no pleno</td>\n",
              "      <td>2,044,937.00</td>\n",
              "    </tr>\n",
              "    <tr>\n",
              "      <th>87</th>\n",
              "      <td>11</td>\n",
              "      <td>Subempleo</td>\n",
              "      <td>743,991.50</td>\n",
              "    </tr>\n",
              "    <tr>\n",
              "      <th>96</th>\n",
              "      <td>12</td>\n",
              "      <td>Empleo Adecuado/Pleno</td>\n",
              "      <td>3,111,499.00</td>\n",
              "    </tr>\n",
              "    <tr>\n",
              "      <th>99</th>\n",
              "      <td>12</td>\n",
              "      <td>Otro Empleo no pleno</td>\n",
              "      <td>2,040,986.50</td>\n",
              "    </tr>\n",
              "    <tr>\n",
              "      <th>105</th>\n",
              "      <td>12</td>\n",
              "      <td>Subempleo</td>\n",
              "      <td>634,436.00</td>\n",
              "    </tr>\n",
              "    <tr>\n",
              "      <th>114</th>\n",
              "      <td>13</td>\n",
              "      <td>Empleo Adecuado/Pleno</td>\n",
              "      <td>3,163,264.50</td>\n",
              "    </tr>\n",
              "    <tr>\n",
              "      <th>117</th>\n",
              "      <td>13</td>\n",
              "      <td>Otro Empleo no pleno</td>\n",
              "      <td>2,082,403.50</td>\n",
              "    </tr>\n",
              "    <tr>\n",
              "      <th>123</th>\n",
              "      <td>13</td>\n",
              "      <td>Subempleo</td>\n",
              "      <td>813,697.50</td>\n",
              "    </tr>\n",
              "    <tr>\n",
              "      <th>132</th>\n",
              "      <td>14</td>\n",
              "      <td>Empleo Adecuado/Pleno</td>\n",
              "      <td>3,391,765.25</td>\n",
              "    </tr>\n",
              "    <tr>\n",
              "      <th>135</th>\n",
              "      <td>14</td>\n",
              "      <td>Otro Empleo no pleno</td>\n",
              "      <td>1,983,901.75</td>\n",
              "    </tr>\n",
              "    <tr>\n",
              "      <th>141</th>\n",
              "      <td>14</td>\n",
              "      <td>Subempleo</td>\n",
              "      <td>890,444.50</td>\n",
              "    </tr>\n",
              "    <tr>\n",
              "      <th>150</th>\n",
              "      <td>15</td>\n",
              "      <td>Empleo Adecuado/Pleno</td>\n",
              "      <td>3,404,390.25</td>\n",
              "    </tr>\n",
              "    <tr>\n",
              "      <th>153</th>\n",
              "      <td>15</td>\n",
              "      <td>Otro Empleo no pleno</td>\n",
              "      <td>2,032,688.75</td>\n",
              "    </tr>\n",
              "    <tr>\n",
              "      <th>159</th>\n",
              "      <td>15</td>\n",
              "      <td>Subempleo</td>\n",
              "      <td>1,034,029.25</td>\n",
              "    </tr>\n",
              "    <tr>\n",
              "      <th>168</th>\n",
              "      <td>16</td>\n",
              "      <td>Empleo Adecuado/Pleno</td>\n",
              "      <td>3,188,784.00</td>\n",
              "    </tr>\n",
              "    <tr>\n",
              "      <th>171</th>\n",
              "      <td>16</td>\n",
              "      <td>Otro Empleo no pleno</td>\n",
              "      <td>2,070,205.75</td>\n",
              "    </tr>\n",
              "    <tr>\n",
              "      <th>177</th>\n",
              "      <td>16</td>\n",
              "      <td>Subempleo</td>\n",
              "      <td>1,437,778.75</td>\n",
              "    </tr>\n",
              "    <tr>\n",
              "      <th>186</th>\n",
              "      <td>17</td>\n",
              "      <td>Empleo Adecuado/Pleno</td>\n",
              "      <td>3,275,341.00</td>\n",
              "    </tr>\n",
              "    <tr>\n",
              "      <th>189</th>\n",
              "      <td>17</td>\n",
              "      <td>Otro Empleo no pleno</td>\n",
              "      <td>1,986,290.00</td>\n",
              "    </tr>\n",
              "    <tr>\n",
              "      <th>196</th>\n",
              "      <td>17</td>\n",
              "      <td>Subempleo</td>\n",
              "      <td>1,669,343.50</td>\n",
              "    </tr>\n",
              "    <tr>\n",
              "      <th>205</th>\n",
              "      <td>18</td>\n",
              "      <td>Empleo Adecuado/Pleno</td>\n",
              "      <td>3,249,694.50</td>\n",
              "    </tr>\n",
              "    <tr>\n",
              "      <th>208</th>\n",
              "      <td>18</td>\n",
              "      <td>Otro Empleo no pleno</td>\n",
              "      <td>2,162,808.00</td>\n",
              "    </tr>\n",
              "    <tr>\n",
              "      <th>214</th>\n",
              "      <td>18</td>\n",
              "      <td>Subempleo</td>\n",
              "      <td>1,493,030.00</td>\n",
              "    </tr>\n",
              "    <tr>\n",
              "      <th>223</th>\n",
              "      <td>19</td>\n",
              "      <td>Empleo Adecuado/Pleno</td>\n",
              "      <td>3,148,216.75</td>\n",
              "    </tr>\n",
              "    <tr>\n",
              "      <th>226</th>\n",
              "      <td>19</td>\n",
              "      <td>Otro Empleo no pleno</td>\n",
              "      <td>2,207,743.50</td>\n",
              "    </tr>\n",
              "    <tr>\n",
              "      <th>232</th>\n",
              "      <td>19</td>\n",
              "      <td>Subempleo</td>\n",
              "      <td>1,570,431.25</td>\n",
              "    </tr>\n",
              "    <tr>\n",
              "      <th>241</th>\n",
              "      <td>20</td>\n",
              "      <td>Empleo Adecuado/Pleno</td>\n",
              "      <td>2,395,943.75</td>\n",
              "    </tr>\n",
              "    <tr>\n",
              "      <th>244</th>\n",
              "      <td>20</td>\n",
              "      <td>Otro Empleo no pleno</td>\n",
              "      <td>2,253,043.75</td>\n",
              "    </tr>\n",
              "    <tr>\n",
              "      <th>250</th>\n",
              "      <td>20</td>\n",
              "      <td>Subempleo</td>\n",
              "      <td>1,978,116.75</td>\n",
              "    </tr>\n",
              "    <tr>\n",
              "      <th>259</th>\n",
              "      <td>21</td>\n",
              "      <td>Empleo Adecuado/Pleno</td>\n",
              "      <td>2,646,380.10</td>\n",
              "    </tr>\n",
              "    <tr>\n",
              "      <th>262</th>\n",
              "      <td>21</td>\n",
              "      <td>Otro Empleo no pleno</td>\n",
              "      <td>2,265,989.90</td>\n",
              "    </tr>\n",
              "    <tr>\n",
              "      <th>268</th>\n",
              "      <td>21</td>\n",
              "      <td>Subempleo</td>\n",
              "      <td>1,933,593.10</td>\n",
              "    </tr>\n",
              "  </tbody>\n",
              "</table>\n",
              "</div>"
            ],
            "text/plain": [
              "    Periodo            Indicadores        Total\n",
              "6        07  Empleo Adecuado/Pleno 2,737,158.00\n",
              "9        07   Otro Empleo no pleno 1,504,000.00\n",
              "15       07              Subempleo 1,155,872.00\n",
              "24       08  Empleo Adecuado/Pleno 2,804,627.00\n",
              "27       08   Otro Empleo no pleno 1,669,021.00\n",
              "33       08              Subempleo 1,044,338.50\n",
              "42       09  Empleo Adecuado/Pleno 2,565,691.00\n",
              "45       09   Otro Empleo no pleno 1,778,578.00\n",
              "51       09              Subempleo 1,071,615.00\n",
              "60       10  Empleo Adecuado/Pleno 2,795,537.50\n",
              "63       10   Otro Empleo no pleno 1,788,790.50\n",
              "69       10              Subempleo   965,260.50\n",
              "78       11  Empleo Adecuado/Pleno 2,893,045.50\n",
              "81       11   Otro Empleo no pleno 2,044,937.00\n",
              "87       11              Subempleo   743,991.50\n",
              "96       12  Empleo Adecuado/Pleno 3,111,499.00\n",
              "99       12   Otro Empleo no pleno 2,040,986.50\n",
              "105      12              Subempleo   634,436.00\n",
              "114      13  Empleo Adecuado/Pleno 3,163,264.50\n",
              "117      13   Otro Empleo no pleno 2,082,403.50\n",
              "123      13              Subempleo   813,697.50\n",
              "132      14  Empleo Adecuado/Pleno 3,391,765.25\n",
              "135      14   Otro Empleo no pleno 1,983,901.75\n",
              "141      14              Subempleo   890,444.50\n",
              "150      15  Empleo Adecuado/Pleno 3,404,390.25\n",
              "153      15   Otro Empleo no pleno 2,032,688.75\n",
              "159      15              Subempleo 1,034,029.25\n",
              "168      16  Empleo Adecuado/Pleno 3,188,784.00\n",
              "171      16   Otro Empleo no pleno 2,070,205.75\n",
              "177      16              Subempleo 1,437,778.75\n",
              "186      17  Empleo Adecuado/Pleno 3,275,341.00\n",
              "189      17   Otro Empleo no pleno 1,986,290.00\n",
              "196      17              Subempleo 1,669,343.50\n",
              "205      18  Empleo Adecuado/Pleno 3,249,694.50\n",
              "208      18   Otro Empleo no pleno 2,162,808.00\n",
              "214      18              Subempleo 1,493,030.00\n",
              "223      19  Empleo Adecuado/Pleno 3,148,216.75\n",
              "226      19   Otro Empleo no pleno 2,207,743.50\n",
              "232      19              Subempleo 1,570,431.25\n",
              "241      20  Empleo Adecuado/Pleno 2,395,943.75\n",
              "244      20   Otro Empleo no pleno 2,253,043.75\n",
              "250      20              Subempleo 1,978,116.75\n",
              "259      21  Empleo Adecuado/Pleno 2,646,380.10\n",
              "262      21   Otro Empleo no pleno 2,265,989.90\n",
              "268      21              Subempleo 1,933,593.10"
            ]
          },
          "metadata": {},
          "execution_count": 32
        }
      ]
    },
    {
      "cell_type": "code",
      "metadata": {
        "colab": {
          "base_uri": "https://localhost:8080/",
          "height": 518
        },
        "id": "eMZGvrrMKNFg",
        "outputId": "eea99880-a23f-471c-8838-026c5eeebe19"
      },
      "source": [
        "subEmpleo= indicadores.query('Indicadores==\"Subempleo\"')\n",
        "empleoPleno= indicadores.query('Indicadores==\"Empleo Adecuado/Pleno\"')\n",
        "empleoNopleno= indicadores.query('Indicadores==\"Otro Empleo no pleno\"')\n",
        "\n",
        "barWidth = 0.3\n",
        "fig = plt.subplots(figsize =(18, 8))\n",
        " \n",
        "IT = np.array(subEmpleo[\"Total\"])\n",
        "ECE = np.array(empleoPleno[\"Total\"])\n",
        "CSE = np.array(empleoNopleno[\"Total\"])\n",
        " \n",
        "br1 = np.arange(len(IT))\n",
        "br2 = [x + barWidth for x in br1]\n",
        "br3 = [x + barWidth for x in br2]\n",
        "\n",
        "plt.bar(br1, IT, color ='y', width = barWidth,\n",
        "        edgecolor ='grey', label ='Subempleo')\n",
        "plt.bar(br2, ECE, color ='r', width = barWidth,\n",
        "        edgecolor ='grey', label ='Empleo Pleno')\n",
        "plt.bar(br3, CSE, color ='b', width = barWidth,\n",
        "        edgecolor ='grey', label ='Empleo No pleno')\n",
        " \n",
        "plt.xlabel('Año', fontweight ='bold', fontsize = 15)\n",
        "plt.ylabel('Datos mostrando en millones', fontweight ='bold', fontsize = 15)\n",
        "plt.title('Personas con Subempleo, Empleo pleno y empleo no pleno',fontweight ='bold',)\n",
        "plt.xticks([r + barWidth for r in range(len(IT))],\n",
        "        np.array(empleoNopleno[\"Periodo\"]))\n",
        " \n",
        "plt.legend()\n",
        "plt.show()"
      ],
      "id": "eMZGvrrMKNFg",
      "execution_count": 33,
      "outputs": [
        {
          "output_type": "display_data",
          "data": {
            "image/png": "[encoded data removed]",
            "text/plain": [
              "<Figure size 1296x576 with 1 Axes>"
            ]
          },
          "metadata": {
            "needs_background": "light"
          }
        }
      ]
    },
    {
      "cell_type": "markdown",
      "metadata": {
        "id": "YKSAGYkCMwpI"
      },
      "source": [
        "Generar un reporte parametrizado que permita ingresar los datos de las fechas inicio y fin para obtener la información de las graficas vistas en el primer punto"
      ],
      "id": "YKSAGYkCMwpI"
    },
    {
      "cell_type": "code",
      "metadata": {
        "id": "7-SMzvvIMzXQ"
      },
      "source": [
        "sectorizacion_empleo.rename(columns = {\n",
        "'Unnamed: 1': 'Sector'}, inplace = True)\n",
        "\n",
        "sectorizacion = sectorizacion_empleo[sectorizacion_empleo['Característica'].notna()]"
      ],
      "id": "7-SMzvvIMzXQ",
      "execution_count": 81,
      "outputs": []
    },
    {
      "cell_type": "code",
      "metadata": {
        "id": "WtR2TXIFQaUB"
      },
      "source": [
        "sectorizacion = sectorizacion.drop(sectorizacion.columns[[0,1]], axis=1)"
      ],
      "id": "WtR2TXIFQaUB",
      "execution_count": 82,
      "outputs": []
    },
    {
      "cell_type": "code",
      "metadata": {
        "colab": {
          "base_uri": "https://localhost:8080/",
          "height": 181
        },
        "id": "0aSBe-rsQcGh",
        "outputId": "ee485a5b-875c-4317-9838-261f003f0ab7"
      },
      "source": [
        "idx=0\n",
        "sectorizacion.insert(loc=idx, column='Fecha', value=['Nacional', 'Urbano','Rural'])\n",
        "sectorizacion"
      ],
      "id": "0aSBe-rsQcGh",
      "execution_count": 83,
      "outputs": [
        {
          "output_type": "execute_result",
          "data": {
            "text/html": [
              "<div>\n",
              "<style scoped>\n",
              "    .dataframe tbody tr th:only-of-type {\n",
              "        vertical-align: middle;\n",
              "    }\n",
              "\n",
              "    .dataframe tbody tr th {\n",
              "        vertical-align: top;\n",
              "    }\n",
              "\n",
              "    .dataframe thead th {\n",
              "        text-align: right;\n",
              "    }\n",
              "</style>\n",
              "<table border=\"1\" class=\"dataframe\">\n",
              "  <thead>\n",
              "    <tr style=\"text-align: right;\">\n",
              "      <th></th>\n",
              "      <th>Fecha</th>\n",
              "      <th>jun-07</th>\n",
              "      <th>sep-07</th>\n",
              "      <th>dic-07</th>\n",
              "      <th>mar-08</th>\n",
              "      <th>jun-08</th>\n",
              "      <th>sep-08</th>\n",
              "      <th>dic-08</th>\n",
              "      <th>mar-09</th>\n",
              "      <th>jun-09</th>\n",
              "      <th>sep-09</th>\n",
              "      <th>dic-09</th>\n",
              "      <th>mar-10</th>\n",
              "      <th>jun-10</th>\n",
              "      <th>sep-10</th>\n",
              "      <th>dic-10</th>\n",
              "      <th>mar-11</th>\n",
              "      <th>jun-11</th>\n",
              "      <th>sep-11</th>\n",
              "      <th>dic-11</th>\n",
              "      <th>mar-12</th>\n",
              "      <th>jun-12</th>\n",
              "      <th>sep-12</th>\n",
              "      <th>dic-12</th>\n",
              "      <th>mar-13</th>\n",
              "      <th>jun-13</th>\n",
              "      <th>sep-13</th>\n",
              "      <th>dic-13</th>\n",
              "      <th>mar-14</th>\n",
              "      <th>jun-14</th>\n",
              "      <th>sep-14</th>\n",
              "      <th>dic-14</th>\n",
              "      <th>mar15</th>\n",
              "      <th>jun-15</th>\n",
              "      <th>sep-15</th>\n",
              "      <th>dic-15</th>\n",
              "      <th>mar-16</th>\n",
              "      <th>jun-16</th>\n",
              "      <th>sep-16</th>\n",
              "      <th>dic-16</th>\n",
              "      <th>mar-17</th>\n",
              "      <th>jun-17</th>\n",
              "      <th>sep-17</th>\n",
              "      <th>dic-17</th>\n",
              "      <th>mar-18</th>\n",
              "      <th>jun-18</th>\n",
              "      <th>sep-18</th>\n",
              "      <th>dic-18</th>\n",
              "      <th>mar-19</th>\n",
              "      <th>jun-19</th>\n",
              "      <th>sep-19</th>\n",
              "      <th>dic-19</th>\n",
              "      <th>sep-20</th>\n",
              "      <th>oct-20</th>\n",
              "      <th>nov-20</th>\n",
              "      <th>dic-20</th>\n",
              "      <th>ene-21</th>\n",
              "      <th>feb-21</th>\n",
              "      <th>mar-21</th>\n",
              "      <th>abr-21</th>\n",
              "      <th>may-21</th>\n",
              "      <th>jun-21</th>\n",
              "      <th>jul-21</th>\n",
              "      <th>ago-21</th>\n",
              "      <th>sep-21</th>\n",
              "      <th>oct-21</th>\n",
              "    </tr>\n",
              "  </thead>\n",
              "  <tbody>\n",
              "    <tr>\n",
              "      <th>0</th>\n",
              "      <td>Nacional</td>\n",
              "      <td>-</td>\n",
              "      <td>-</td>\n",
              "      <td>41,0%</td>\n",
              "      <td>-</td>\n",
              "      <td>42,5%</td>\n",
              "      <td>-</td>\n",
              "      <td>43,9%</td>\n",
              "      <td>-</td>\n",
              "      <td>-</td>\n",
              "      <td>-</td>\n",
              "      <td>43,7%</td>\n",
              "      <td>-</td>\n",
              "      <td>44,9%</td>\n",
              "      <td>-</td>\n",
              "      <td>47,2%</td>\n",
              "      <td>-</td>\n",
              "      <td>46,3%</td>\n",
              "      <td>-</td>\n",
              "      <td>46,5%</td>\n",
              "      <td>-</td>\n",
              "      <td>47,4%</td>\n",
              "      <td>-</td>\n",
              "      <td>48,7%</td>\n",
              "      <td>-</td>\n",
              "      <td>47,6%</td>\n",
              "      <td>-</td>\n",
              "      <td>49,3%</td>\n",
              "      <td>48,7%</td>\n",
              "      <td>50,9%</td>\n",
              "      <td>51,2%</td>\n",
              "      <td>50,9%</td>\n",
              "      <td>49,9%</td>\n",
              "      <td>51,2%</td>\n",
              "      <td>50,6%</td>\n",
              "      <td>50,5%</td>\n",
              "      <td>48,7%</td>\n",
              "      <td>49,0%</td>\n",
              "      <td>47,7%</td>\n",
              "      <td>47,6%</td>\n",
              "      <td>47,0%</td>\n",
              "      <td>47,9%</td>\n",
              "      <td>47,4%</td>\n",
              "      <td>48,9%</td>\n",
              "      <td>48,3%</td>\n",
              "      <td>46,0%</td>\n",
              "      <td>46,8%</td>\n",
              "      <td>46,2%</td>\n",
              "      <td>45,7%</td>\n",
              "      <td>45,9%</td>\n",
              "      <td>46,5%</td>\n",
              "      <td>44,7%</td>\n",
              "      <td>41,6%</td>\n",
              "      <td>42,6%</td>\n",
              "      <td>41,0%</td>\n",
              "      <td>40,9%</td>\n",
              "      <td>41,9%</td>\n",
              "      <td>41,4%</td>\n",
              "      <td>42,1%</td>\n",
              "      <td>39,9%</td>\n",
              "      <td>39,7%</td>\n",
              "      <td>42,3%</td>\n",
              "      <td>40,6%</td>\n",
              "      <td>41,2%</td>\n",
              "      <td>43,9%</td>\n",
              "      <td>41,4%</td>\n",
              "    </tr>\n",
              "    <tr>\n",
              "      <th>4</th>\n",
              "      <td>Urbano</td>\n",
              "      <td>54,7%</td>\n",
              "      <td>55,7%</td>\n",
              "      <td>54,1%</td>\n",
              "      <td>54,4%</td>\n",
              "      <td>55,8%</td>\n",
              "      <td>56,0%</td>\n",
              "      <td>56,2%</td>\n",
              "      <td>57,4%</td>\n",
              "      <td>57,7%</td>\n",
              "      <td>59,4%</td>\n",
              "      <td>57,3%</td>\n",
              "      <td>57,5%</td>\n",
              "      <td>58,6%</td>\n",
              "      <td>59,4%</td>\n",
              "      <td>60,8%</td>\n",
              "      <td>59,9%</td>\n",
              "      <td>60,5%</td>\n",
              "      <td>61,0%</td>\n",
              "      <td>59,9%</td>\n",
              "      <td>63,1%</td>\n",
              "      <td>61,6%</td>\n",
              "      <td>61,6%</td>\n",
              "      <td>62,5%</td>\n",
              "      <td>61,2%</td>\n",
              "      <td>61,9%</td>\n",
              "      <td>62,0%</td>\n",
              "      <td>61,9%</td>\n",
              "      <td>61,0%</td>\n",
              "      <td>63,0%</td>\n",
              "      <td>63,6%</td>\n",
              "      <td>60,6%</td>\n",
              "      <td>61,3%</td>\n",
              "      <td>62,6%</td>\n",
              "      <td>61,0%</td>\n",
              "      <td>60,8%</td>\n",
              "      <td>59,6%</td>\n",
              "      <td>60,4%</td>\n",
              "      <td>58,2%</td>\n",
              "      <td>56,6%</td>\n",
              "      <td>57,9%</td>\n",
              "      <td>58,7%</td>\n",
              "      <td>57,3%</td>\n",
              "      <td>59,2%</td>\n",
              "      <td>59,0%</td>\n",
              "      <td>57,5%</td>\n",
              "      <td>58,8%</td>\n",
              "      <td>57,3%</td>\n",
              "      <td>57,4%</td>\n",
              "      <td>56,9%</td>\n",
              "      <td>57,3%</td>\n",
              "      <td>56,3%</td>\n",
              "      <td>51,8%</td>\n",
              "      <td>53,5%</td>\n",
              "      <td>52,8%</td>\n",
              "      <td>51,2%</td>\n",
              "      <td>53,7%</td>\n",
              "      <td>51,9%</td>\n",
              "      <td>51,3%</td>\n",
              "      <td>50,9%</td>\n",
              "      <td>50,7%</td>\n",
              "      <td>52,5%</td>\n",
              "      <td>50,7%</td>\n",
              "      <td>52,1%</td>\n",
              "      <td>54,3%</td>\n",
              "      <td>52,5%</td>\n",
              "    </tr>\n",
              "    <tr>\n",
              "      <th>8</th>\n",
              "      <td>Rural</td>\n",
              "      <td>-</td>\n",
              "      <td>-</td>\n",
              "      <td>15,5%</td>\n",
              "      <td>-</td>\n",
              "      <td>16,2%</td>\n",
              "      <td>-</td>\n",
              "      <td>19,1%</td>\n",
              "      <td>-</td>\n",
              "      <td>-</td>\n",
              "      <td>-</td>\n",
              "      <td>17,2%</td>\n",
              "      <td>-</td>\n",
              "      <td>18,4%</td>\n",
              "      <td>-</td>\n",
              "      <td>20,5%</td>\n",
              "      <td>-</td>\n",
              "      <td>18,9%</td>\n",
              "      <td>-</td>\n",
              "      <td>19,6%</td>\n",
              "      <td>-</td>\n",
              "      <td>19,9%</td>\n",
              "      <td>-</td>\n",
              "      <td>21,2%</td>\n",
              "      <td>-</td>\n",
              "      <td>20,9%</td>\n",
              "      <td>-</td>\n",
              "      <td>23,6%</td>\n",
              "      <td>23,4%</td>\n",
              "      <td>25,2%</td>\n",
              "      <td>25,2%</td>\n",
              "      <td>31,0%</td>\n",
              "      <td>28,5%</td>\n",
              "      <td>28,9%</td>\n",
              "      <td>29,8%</td>\n",
              "      <td>28,7%</td>\n",
              "      <td>27,5%</td>\n",
              "      <td>27,1%</td>\n",
              "      <td>27,6%</td>\n",
              "      <td>29,6%</td>\n",
              "      <td>26,7%</td>\n",
              "      <td>27,0%</td>\n",
              "      <td>28,0%</td>\n",
              "      <td>28,1%</td>\n",
              "      <td>27,7%</td>\n",
              "      <td>24,2%</td>\n",
              "      <td>23,4%</td>\n",
              "      <td>24,4%</td>\n",
              "      <td>23,7%</td>\n",
              "      <td>25,3%</td>\n",
              "      <td>25,8%</td>\n",
              "      <td>22,3%</td>\n",
              "      <td>22,9%</td>\n",
              "      <td>22,5%</td>\n",
              "      <td>19,7%</td>\n",
              "      <td>21,4%</td>\n",
              "      <td>20,8%</td>\n",
              "      <td>22,1%</td>\n",
              "      <td>25,2%</td>\n",
              "      <td>20,2%</td>\n",
              "      <td>19,9%</td>\n",
              "      <td>23,1%</td>\n",
              "      <td>21,2%</td>\n",
              "      <td>21,0%</td>\n",
              "      <td>24,9%</td>\n",
              "      <td>20,4%</td>\n",
              "    </tr>\n",
              "  </tbody>\n",
              "</table>\n",
              "</div>"
            ],
            "text/plain": [
              "      Fecha jun-07 sep-07 dic-07 mar-08  ... jun-21 jul-21 ago-21 sep-21 oct-21\n",
              "0  Nacional      -      -  41,0%      -  ...  42,3%  40,6%  41,2%  43,9%  41,4%\n",
              "4    Urbano  54,7%  55,7%  54,1%  54,4%  ...  52,5%  50,7%  52,1%  54,3%  52,5%\n",
              "8     Rural      -      -  15,5%      -  ...  23,1%  21,2%  21,0%  24,9%  20,4%\n",
              "\n",
              "[3 rows x 66 columns]"
            ]
          },
          "metadata": {},
          "execution_count": 83
        }
      ]
    },
    {
      "cell_type": "code",
      "metadata": {
        "colab": {
          "base_uri": "https://localhost:8080/",
          "height": 206
        },
        "id": "TQ33pa6DQdbJ",
        "outputId": "561395a5-7ea3-4d02-9cb6-82894343d275"
      },
      "source": [
        "nDfSecto = sectorizacion.T\n",
        "nDfSecto.columns = nDfSecto.iloc[0]\n",
        "sectoDF = nDfSecto.replace('-', 0)\n",
        "sectoDF.head()"
      ],
      "id": "TQ33pa6DQdbJ",
      "execution_count": 84,
      "outputs": [
        {
          "output_type": "execute_result",
          "data": {
            "text/html": [
              "<div>\n",
              "<style scoped>\n",
              "    .dataframe tbody tr th:only-of-type {\n",
              "        vertical-align: middle;\n",
              "    }\n",
              "\n",
              "    .dataframe tbody tr th {\n",
              "        vertical-align: top;\n",
              "    }\n",
              "\n",
              "    .dataframe thead th {\n",
              "        text-align: right;\n",
              "    }\n",
              "</style>\n",
              "<table border=\"1\" class=\"dataframe\">\n",
              "  <thead>\n",
              "    <tr style=\"text-align: right;\">\n",
              "      <th>Fecha</th>\n",
              "      <th>Nacional</th>\n",
              "      <th>Urbano</th>\n",
              "      <th>Rural</th>\n",
              "    </tr>\n",
              "  </thead>\n",
              "  <tbody>\n",
              "    <tr>\n",
              "      <th>Fecha</th>\n",
              "      <td>Nacional</td>\n",
              "      <td>Urbano</td>\n",
              "      <td>Rural</td>\n",
              "    </tr>\n",
              "    <tr>\n",
              "      <th>jun-07</th>\n",
              "      <td>0</td>\n",
              "      <td>54,7%</td>\n",
              "      <td>0</td>\n",
              "    </tr>\n",
              "    <tr>\n",
              "      <th>sep-07</th>\n",
              "      <td>0</td>\n",
              "      <td>55,7%</td>\n",
              "      <td>0</td>\n",
              "    </tr>\n",
              "    <tr>\n",
              "      <th>dic-07</th>\n",
              "      <td>41,0%</td>\n",
              "      <td>54,1%</td>\n",
              "      <td>15,5%</td>\n",
              "    </tr>\n",
              "    <tr>\n",
              "      <th>mar-08</th>\n",
              "      <td>0</td>\n",
              "      <td>54,4%</td>\n",
              "      <td>0</td>\n",
              "    </tr>\n",
              "  </tbody>\n",
              "</table>\n",
              "</div>"
            ],
            "text/plain": [
              "Fecha   Nacional  Urbano  Rural\n",
              "Fecha   Nacional  Urbano  Rural\n",
              "jun-07         0   54,7%      0\n",
              "sep-07         0   55,7%      0\n",
              "dic-07     41,0%   54,1%  15,5%\n",
              "mar-08         0   54,4%      0"
            ]
          },
          "metadata": {},
          "execution_count": 84
        }
      ]
    },
    {
      "cell_type": "code",
      "metadata": {
        "colab": {
          "base_uri": "https://localhost:8080/",
          "height": 206
        },
        "id": "OIcjhFWyQ4Ai",
        "outputId": "a3820497-114f-4889-8651-ea1dd728eccb"
      },
      "source": [
        "sectoDF.columns = sectoDF.iloc[0]\n",
        "poblacion.head(5)"
      ],
      "id": "OIcjhFWyQ4Ai",
      "execution_count": 85,
      "outputs": [
        {
          "output_type": "execute_result",
          "data": {
            "text/html": [
              "<div>\n",
              "<style scoped>\n",
              "    .dataframe tbody tr th:only-of-type {\n",
              "        vertical-align: middle;\n",
              "    }\n",
              "\n",
              "    .dataframe tbody tr th {\n",
              "        vertical-align: top;\n",
              "    }\n",
              "\n",
              "    .dataframe thead th {\n",
              "        text-align: right;\n",
              "    }\n",
              "</style>\n",
              "<table border=\"1\" class=\"dataframe\">\n",
              "  <thead>\n",
              "    <tr style=\"text-align: right;\">\n",
              "      <th></th>\n",
              "      <th>Encuesta</th>\n",
              "      <th>Periodo</th>\n",
              "      <th>Indicadores</th>\n",
              "      <th>Total</th>\n",
              "      <th>Urbana</th>\n",
              "      <th>Rural</th>\n",
              "      <th>Hombre</th>\n",
              "      <th>Mujer</th>\n",
              "    </tr>\n",
              "  </thead>\n",
              "  <tbody>\n",
              "    <tr>\n",
              "      <th>0</th>\n",
              "      <td>ENEMDU</td>\n",
              "      <td>dic-07</td>\n",
              "      <td>Población Total</td>\n",
              "      <td>13.682.302</td>\n",
              "      <td>9.066.209</td>\n",
              "      <td>4.616.093</td>\n",
              "      <td>6.768.646</td>\n",
              "      <td>6.913.656</td>\n",
              "    </tr>\n",
              "    <tr>\n",
              "      <th>1</th>\n",
              "      <td>ENEMDU</td>\n",
              "      <td>dic-07</td>\n",
              "      <td>Población menor de 15 años</td>\n",
              "      <td>4.372.812</td>\n",
              "      <td>2.723.124</td>\n",
              "      <td>1.649.688</td>\n",
              "      <td>2.226.618</td>\n",
              "      <td>2.146.194</td>\n",
              "    </tr>\n",
              "    <tr>\n",
              "      <th>2</th>\n",
              "      <td>ENEMDU</td>\n",
              "      <td>dic-07</td>\n",
              "      <td>Población en Edad de Trabajar (PET)</td>\n",
              "      <td>9.309.490</td>\n",
              "      <td>6.343.085</td>\n",
              "      <td>2.966.404</td>\n",
              "      <td>4.542.028</td>\n",
              "      <td>4.767.462</td>\n",
              "    </tr>\n",
              "    <tr>\n",
              "      <th>3</th>\n",
              "      <td>ENEMDU</td>\n",
              "      <td>dic-07</td>\n",
              "      <td>Población Económicamente Activa</td>\n",
              "      <td>6.336.029</td>\n",
              "      <td>4.227.702</td>\n",
              "      <td>2.108.328</td>\n",
              "      <td>3.777.232</td>\n",
              "      <td>2.558.798</td>\n",
              "    </tr>\n",
              "    <tr>\n",
              "      <th>4</th>\n",
              "      <td>ENEMDU</td>\n",
              "      <td>dic-07</td>\n",
              "      <td>Empleo</td>\n",
              "      <td>6.019.332</td>\n",
              "      <td>3.971.040</td>\n",
              "      <td>2.048.292</td>\n",
              "      <td>3.632.314</td>\n",
              "      <td>2.387.018</td>\n",
              "    </tr>\n",
              "  </tbody>\n",
              "</table>\n",
              "</div>"
            ],
            "text/plain": [
              "  Encuesta Periodo  ...     Hombre      Mujer\n",
              "0   ENEMDU  dic-07  ...  6.768.646  6.913.656\n",
              "1   ENEMDU  dic-07  ...  2.226.618  2.146.194\n",
              "2   ENEMDU  dic-07  ...  4.542.028  4.767.462\n",
              "3   ENEMDU  dic-07  ...  3.777.232  2.558.798\n",
              "4   ENEMDU  dic-07  ...  3.632.314  2.387.018\n",
              "\n",
              "[5 rows x 8 columns]"
            ]
          },
          "metadata": {},
          "execution_count": 85
        }
      ]
    },
    {
      "cell_type": "code",
      "metadata": {
        "colab": {
          "base_uri": "https://localhost:8080/",
          "height": 50
        },
        "id": "lNecAu7ERLuR",
        "outputId": "f239b257-de6f-4fd6-e09d-e44950c69fe1"
      },
      "source": [
        "subempleo = poblacion.loc[poblacion['Indicadores'] == 'Empleo No Pleno' ]\n",
        "subempleo.head()"
      ],
      "id": "lNecAu7ERLuR",
      "execution_count": 86,
      "outputs": [
        {
          "output_type": "execute_result",
          "data": {
            "text/html": [
              "<div>\n",
              "<style scoped>\n",
              "    .dataframe tbody tr th:only-of-type {\n",
              "        vertical-align: middle;\n",
              "    }\n",
              "\n",
              "    .dataframe tbody tr th {\n",
              "        vertical-align: top;\n",
              "    }\n",
              "\n",
              "    .dataframe thead th {\n",
              "        text-align: right;\n",
              "    }\n",
              "</style>\n",
              "<table border=\"1\" class=\"dataframe\">\n",
              "  <thead>\n",
              "    <tr style=\"text-align: right;\">\n",
              "      <th></th>\n",
              "      <th>Encuesta</th>\n",
              "      <th>Periodo</th>\n",
              "      <th>Indicadores</th>\n",
              "      <th>Total</th>\n",
              "      <th>Urbana</th>\n",
              "      <th>Rural</th>\n",
              "      <th>Hombre</th>\n",
              "      <th>Mujer</th>\n",
              "    </tr>\n",
              "  </thead>\n",
              "  <tbody>\n",
              "  </tbody>\n",
              "</table>\n",
              "</div>"
            ],
            "text/plain": [
              "Empty DataFrame\n",
              "Columns: [Encuesta, Periodo, Indicadores, Total, Urbana, Rural, Hombre, Mujer]\n",
              "Index: []"
            ]
          },
          "metadata": {},
          "execution_count": 86
        }
      ]
    },
    {
      "cell_type": "code",
      "metadata": {
        "colab": {
          "base_uri": "https://localhost:8080/",
          "height": 206
        },
        "id": "mOHdC7s_RL0J",
        "outputId": "021da042-c9f5-4d12-81de-41a29dec04ea"
      },
      "source": [
        "subempleoF = poblacion.loc[poblacion['Indicadores'] == 'Subempleo']\n",
        "subempleoF.head()"
      ],
      "id": "mOHdC7s_RL0J",
      "execution_count": 87,
      "outputs": [
        {
          "output_type": "execute_result",
          "data": {
            "text/html": [
              "<div>\n",
              "<style scoped>\n",
              "    .dataframe tbody tr th:only-of-type {\n",
              "        vertical-align: middle;\n",
              "    }\n",
              "\n",
              "    .dataframe tbody tr th {\n",
              "        vertical-align: top;\n",
              "    }\n",
              "\n",
              "    .dataframe thead th {\n",
              "        text-align: right;\n",
              "    }\n",
              "</style>\n",
              "<table border=\"1\" class=\"dataframe\">\n",
              "  <thead>\n",
              "    <tr style=\"text-align: right;\">\n",
              "      <th></th>\n",
              "      <th>Encuesta</th>\n",
              "      <th>Periodo</th>\n",
              "      <th>Indicadores</th>\n",
              "      <th>Total</th>\n",
              "      <th>Urbana</th>\n",
              "      <th>Rural</th>\n",
              "      <th>Hombre</th>\n",
              "      <th>Mujer</th>\n",
              "    </tr>\n",
              "  </thead>\n",
              "  <tbody>\n",
              "    <tr>\n",
              "      <th>6</th>\n",
              "      <td>ENEMDU</td>\n",
              "      <td>dic-07</td>\n",
              "      <td>Subempleo</td>\n",
              "      <td>1.155.872</td>\n",
              "      <td>687.714</td>\n",
              "      <td>468.158</td>\n",
              "      <td>679.118</td>\n",
              "      <td>476.753</td>\n",
              "    </tr>\n",
              "    <tr>\n",
              "      <th>24</th>\n",
              "      <td>ENEMDU</td>\n",
              "      <td>jun-08</td>\n",
              "      <td>Subempleo</td>\n",
              "      <td>1.130.699</td>\n",
              "      <td>696.949</td>\n",
              "      <td>433.750</td>\n",
              "      <td>665.939</td>\n",
              "      <td>464.760</td>\n",
              "    </tr>\n",
              "    <tr>\n",
              "      <th>42</th>\n",
              "      <td>ENEMDU</td>\n",
              "      <td>dic-08</td>\n",
              "      <td>Subempleo</td>\n",
              "      <td>957.978</td>\n",
              "      <td>588.824</td>\n",
              "      <td>369.155</td>\n",
              "      <td>549.097</td>\n",
              "      <td>408.881</td>\n",
              "    </tr>\n",
              "    <tr>\n",
              "      <th>60</th>\n",
              "      <td>ENEMDU</td>\n",
              "      <td>dic-09</td>\n",
              "      <td>Subempleo</td>\n",
              "      <td>1.071.615</td>\n",
              "      <td>664.855</td>\n",
              "      <td>406.760</td>\n",
              "      <td>636.204</td>\n",
              "      <td>435.411</td>\n",
              "    </tr>\n",
              "    <tr>\n",
              "      <th>78</th>\n",
              "      <td>ENEMDU</td>\n",
              "      <td>jun-10</td>\n",
              "      <td>Subempleo</td>\n",
              "      <td>1.041.266</td>\n",
              "      <td>663.688</td>\n",
              "      <td>377.578</td>\n",
              "      <td>596.889</td>\n",
              "      <td>444.377</td>\n",
              "    </tr>\n",
              "  </tbody>\n",
              "</table>\n",
              "</div>"
            ],
            "text/plain": [
              "   Encuesta Periodo Indicadores      Total   Urbana    Rural   Hombre    Mujer\n",
              "6    ENEMDU  dic-07   Subempleo  1.155.872  687.714  468.158  679.118  476.753\n",
              "24   ENEMDU  jun-08   Subempleo  1.130.699  696.949  433.750  665.939  464.760\n",
              "42   ENEMDU  dic-08   Subempleo    957.978  588.824  369.155  549.097  408.881\n",
              "60   ENEMDU  dic-09   Subempleo  1.071.615  664.855  406.760  636.204  435.411\n",
              "78   ENEMDU  jun-10   Subempleo  1.041.266  663.688  377.578  596.889  444.377"
            ]
          },
          "metadata": {},
          "execution_count": 87
        }
      ]
    },
    {
      "cell_type": "code",
      "metadata": {
        "colab": {
          "base_uri": "https://localhost:8080/",
          "height": 206
        },
        "id": "yokgbiOgRL2p",
        "outputId": "03130fbf-619b-48eb-acd4-df0d0bdf5481"
      },
      "source": [
        "empleoPleno = poblacion.loc[poblacion['Indicadores'] == 'Empleo Adecuado/Pleno']\n",
        "empleoPleno.head()"
      ],
      "id": "yokgbiOgRL2p",
      "execution_count": 88,
      "outputs": [
        {
          "output_type": "execute_result",
          "data": {
            "text/html": [
              "<div>\n",
              "<style scoped>\n",
              "    .dataframe tbody tr th:only-of-type {\n",
              "        vertical-align: middle;\n",
              "    }\n",
              "\n",
              "    .dataframe tbody tr th {\n",
              "        vertical-align: top;\n",
              "    }\n",
              "\n",
              "    .dataframe thead th {\n",
              "        text-align: right;\n",
              "    }\n",
              "</style>\n",
              "<table border=\"1\" class=\"dataframe\">\n",
              "  <thead>\n",
              "    <tr style=\"text-align: right;\">\n",
              "      <th></th>\n",
              "      <th>Encuesta</th>\n",
              "      <th>Periodo</th>\n",
              "      <th>Indicadores</th>\n",
              "      <th>Total</th>\n",
              "      <th>Urbana</th>\n",
              "      <th>Rural</th>\n",
              "      <th>Hombre</th>\n",
              "      <th>Mujer</th>\n",
              "    </tr>\n",
              "  </thead>\n",
              "  <tbody>\n",
              "    <tr>\n",
              "      <th>5</th>\n",
              "      <td>ENEMDU</td>\n",
              "      <td>dic-07</td>\n",
              "      <td>Empleo Adecuado/Pleno</td>\n",
              "      <td>2.737.158</td>\n",
              "      <td>2.236.440</td>\n",
              "      <td>500.719</td>\n",
              "      <td>1.907.451</td>\n",
              "      <td>829.707</td>\n",
              "    </tr>\n",
              "    <tr>\n",
              "      <th>23</th>\n",
              "      <td>ENEMDU</td>\n",
              "      <td>jun-08</td>\n",
              "      <td>Empleo Adecuado/Pleno</td>\n",
              "      <td>2.750.595</td>\n",
              "      <td>2.248.018</td>\n",
              "      <td>502.577</td>\n",
              "      <td>1.937.602</td>\n",
              "      <td>812.993</td>\n",
              "    </tr>\n",
              "    <tr>\n",
              "      <th>41</th>\n",
              "      <td>ENEMDU</td>\n",
              "      <td>dic-08</td>\n",
              "      <td>Empleo Adecuado/Pleno</td>\n",
              "      <td>2.858.659</td>\n",
              "      <td>2.339.288</td>\n",
              "      <td>519.370</td>\n",
              "      <td>1.991.157</td>\n",
              "      <td>867.502</td>\n",
              "    </tr>\n",
              "    <tr>\n",
              "      <th>59</th>\n",
              "      <td>ENEMDU</td>\n",
              "      <td>dic-09</td>\n",
              "      <td>Empleo Adecuado/Pleno</td>\n",
              "      <td>2.565.691</td>\n",
              "      <td>2.100.511</td>\n",
              "      <td>465.180</td>\n",
              "      <td>1.765.402</td>\n",
              "      <td>800.289</td>\n",
              "    </tr>\n",
              "    <tr>\n",
              "      <th>77</th>\n",
              "      <td>ENEMDU</td>\n",
              "      <td>jun-10</td>\n",
              "      <td>Empleo Adecuado/Pleno</td>\n",
              "      <td>2.715.542</td>\n",
              "      <td>2.211.148</td>\n",
              "      <td>504.394</td>\n",
              "      <td>1.839.160</td>\n",
              "      <td>876.383</td>\n",
              "    </tr>\n",
              "  </tbody>\n",
              "</table>\n",
              "</div>"
            ],
            "text/plain": [
              "   Encuesta Periodo            Indicadores  ...    Rural     Hombre    Mujer\n",
              "5    ENEMDU  dic-07  Empleo Adecuado/Pleno  ...  500.719  1.907.451  829.707\n",
              "23   ENEMDU  jun-08  Empleo Adecuado/Pleno  ...  502.577  1.937.602  812.993\n",
              "41   ENEMDU  dic-08  Empleo Adecuado/Pleno  ...  519.370  1.991.157  867.502\n",
              "59   ENEMDU  dic-09  Empleo Adecuado/Pleno  ...  465.180  1.765.402  800.289\n",
              "77   ENEMDU  jun-10  Empleo Adecuado/Pleno  ...  504.394  1.839.160  876.383\n",
              "\n",
              "[5 rows x 8 columns]"
            ]
          },
          "metadata": {},
          "execution_count": 88
        }
      ]
    },
    {
      "cell_type": "code",
      "metadata": {
        "colab": {
          "base_uri": "https://localhost:8080/",
          "height": 206
        },
        "id": "AVPs--5jRL5S",
        "outputId": "bf4b5e66-3f80-4824-fa5f-9defd2d59601"
      },
      "source": [
        "# Ver todas las ocurrencias de 'No pleno' en la columna de indicadores\n",
        "empleonoPleno = poblacion.loc[poblacion['Indicadores'] == 'Otro Empleo no pleno']\n",
        "empleonoPleno.head()"
      ],
      "id": "AVPs--5jRL5S",
      "execution_count": 89,
      "outputs": [
        {
          "output_type": "execute_result",
          "data": {
            "text/html": [
              "<div>\n",
              "<style scoped>\n",
              "    .dataframe tbody tr th:only-of-type {\n",
              "        vertical-align: middle;\n",
              "    }\n",
              "\n",
              "    .dataframe tbody tr th {\n",
              "        vertical-align: top;\n",
              "    }\n",
              "\n",
              "    .dataframe thead th {\n",
              "        text-align: right;\n",
              "    }\n",
              "</style>\n",
              "<table border=\"1\" class=\"dataframe\">\n",
              "  <thead>\n",
              "    <tr style=\"text-align: right;\">\n",
              "      <th></th>\n",
              "      <th>Encuesta</th>\n",
              "      <th>Periodo</th>\n",
              "      <th>Indicadores</th>\n",
              "      <th>Total</th>\n",
              "      <th>Urbana</th>\n",
              "      <th>Rural</th>\n",
              "      <th>Hombre</th>\n",
              "      <th>Mujer</th>\n",
              "    </tr>\n",
              "  </thead>\n",
              "  <tbody>\n",
              "    <tr>\n",
              "      <th>10</th>\n",
              "      <td>ENEMDU</td>\n",
              "      <td>dic-07</td>\n",
              "      <td>Otro Empleo no pleno</td>\n",
              "      <td>1.504.000</td>\n",
              "      <td>785.461</td>\n",
              "      <td>718.539</td>\n",
              "      <td>830.341</td>\n",
              "      <td>673.659</td>\n",
              "    </tr>\n",
              "    <tr>\n",
              "      <th>28</th>\n",
              "      <td>ENEMDU</td>\n",
              "      <td>jun-08</td>\n",
              "      <td>Otro Empleo no pleno</td>\n",
              "      <td>1.688.693</td>\n",
              "      <td>909.254</td>\n",
              "      <td>779.439</td>\n",
              "      <td>898.349</td>\n",
              "      <td>790.344</td>\n",
              "    </tr>\n",
              "    <tr>\n",
              "      <th>46</th>\n",
              "      <td>ENEMDU</td>\n",
              "      <td>dic-08</td>\n",
              "      <td>Otro Empleo no pleno</td>\n",
              "      <td>1.649.349</td>\n",
              "      <td>859.126</td>\n",
              "      <td>790.223</td>\n",
              "      <td>923.415</td>\n",
              "      <td>725.935</td>\n",
              "    </tr>\n",
              "    <tr>\n",
              "      <th>64</th>\n",
              "      <td>ENEMDU</td>\n",
              "      <td>dic-09</td>\n",
              "      <td>Otro Empleo no pleno</td>\n",
              "      <td>1.778.578</td>\n",
              "      <td>951.354</td>\n",
              "      <td>827.224</td>\n",
              "      <td>1.023.151</td>\n",
              "      <td>755.428</td>\n",
              "    </tr>\n",
              "    <tr>\n",
              "      <th>82</th>\n",
              "      <td>ENEMDU</td>\n",
              "      <td>jun-10</td>\n",
              "      <td>Otro Empleo no pleno</td>\n",
              "      <td>1.811.893</td>\n",
              "      <td>958.283</td>\n",
              "      <td>853.610</td>\n",
              "      <td>1.057.750</td>\n",
              "      <td>754.142</td>\n",
              "    </tr>\n",
              "  </tbody>\n",
              "</table>\n",
              "</div>"
            ],
            "text/plain": [
              "   Encuesta Periodo           Indicadores  ...    Rural     Hombre    Mujer\n",
              "10   ENEMDU  dic-07  Otro Empleo no pleno  ...  718.539    830.341  673.659\n",
              "28   ENEMDU  jun-08  Otro Empleo no pleno  ...  779.439    898.349  790.344\n",
              "46   ENEMDU  dic-08  Otro Empleo no pleno  ...  790.223    923.415  725.935\n",
              "64   ENEMDU  dic-09  Otro Empleo no pleno  ...  827.224  1.023.151  755.428\n",
              "82   ENEMDU  jun-10  Otro Empleo no pleno  ...  853.610  1.057.750  754.142\n",
              "\n",
              "[5 rows x 8 columns]"
            ]
          },
          "metadata": {},
          "execution_count": 89
        }
      ]
    },
    {
      "cell_type": "markdown",
      "metadata": {
        "id": "IwA8NqbXTMxj"
      },
      "source": [
        "SUBEMPLEO"
      ],
      "id": "IwA8NqbXTMxj"
    },
    {
      "cell_type": "code",
      "metadata": {
        "id": "YkjsdlwoRL76"
      },
      "source": [
        "subEmpDF = subempleoF[['Periodo', 'Total']]\n",
        "subEmpDF.rename(columns = {\n",
        "   'Periodo': 'Fecha', 'Total': 'Subempleo'}, inplace = True)"
      ],
      "id": "YkjsdlwoRL76",
      "execution_count": 90,
      "outputs": []
    },
    {
      "cell_type": "markdown",
      "metadata": {
        "id": "1_u3jfI3TUXr"
      },
      "source": [
        "EMPLEO ADECUADO"
      ],
      "id": "1_u3jfI3TUXr"
    },
    {
      "cell_type": "code",
      "metadata": {
        "id": "ktNJeWw8RL-m"
      },
      "source": [
        "empAdeDF = empleoPleno [['Periodo', 'Total']]\n",
        "empAdeDF.rename(columns = {\n",
        "   'Periodo': 'Fecha', 'Total': 'Adecuado'}, inplace = True)"
      ],
      "id": "ktNJeWw8RL-m",
      "execution_count": 91,
      "outputs": []
    },
    {
      "cell_type": "markdown",
      "metadata": {
        "id": "6Vhp92RfTeMz"
      },
      "source": [
        "NO PLENO"
      ],
      "id": "6Vhp92RfTeMz"
    },
    {
      "cell_type": "code",
      "metadata": {
        "id": "Xd9aEIZTRgur"
      },
      "source": [
        "noPlenoDF = empleonoPleno[['Periodo', 'Total']]\n",
        "noPlenoDF.rename(columns = {\n",
        "   'Periodo': 'Fecha', 'Total': 'No_pleno'}, inplace = True)"
      ],
      "id": "Xd9aEIZTRgur",
      "execution_count": 92,
      "outputs": []
    },
    {
      "cell_type": "markdown",
      "metadata": {
        "id": "Z5YudFE-Wkqq"
      },
      "source": [
        "Transformar de string a int los valores de total de Subempleo, empleo adecuado y empleo no pleno "
      ],
      "id": "Z5YudFE-Wkqq"
    },
    {
      "cell_type": "code",
      "metadata": {
        "colab": {
          "base_uri": "https://localhost:8080/",
          "height": 206
        },
        "id": "sJMpyfuLWTmL",
        "outputId": "f72cc6fe-374f-450e-c84e-34365a0aacd2"
      },
      "source": [
        "subEmpDF['Subempleo'] = subEmpDF['Subempleo'].str.replace('.','').astype(int)\n",
        "subEmpDF.head()"
      ],
      "id": "sJMpyfuLWTmL",
      "execution_count": 93,
      "outputs": [
        {
          "output_type": "execute_result",
          "data": {
            "text/html": [
              "<div>\n",
              "<style scoped>\n",
              "    .dataframe tbody tr th:only-of-type {\n",
              "        vertical-align: middle;\n",
              "    }\n",
              "\n",
              "    .dataframe tbody tr th {\n",
              "        vertical-align: top;\n",
              "    }\n",
              "\n",
              "    .dataframe thead th {\n",
              "        text-align: right;\n",
              "    }\n",
              "</style>\n",
              "<table border=\"1\" class=\"dataframe\">\n",
              "  <thead>\n",
              "    <tr style=\"text-align: right;\">\n",
              "      <th></th>\n",
              "      <th>Fecha</th>\n",
              "      <th>Subempleo</th>\n",
              "    </tr>\n",
              "  </thead>\n",
              "  <tbody>\n",
              "    <tr>\n",
              "      <th>6</th>\n",
              "      <td>dic-07</td>\n",
              "      <td>1155872</td>\n",
              "    </tr>\n",
              "    <tr>\n",
              "      <th>24</th>\n",
              "      <td>jun-08</td>\n",
              "      <td>1130699</td>\n",
              "    </tr>\n",
              "    <tr>\n",
              "      <th>42</th>\n",
              "      <td>dic-08</td>\n",
              "      <td>957978</td>\n",
              "    </tr>\n",
              "    <tr>\n",
              "      <th>60</th>\n",
              "      <td>dic-09</td>\n",
              "      <td>1071615</td>\n",
              "    </tr>\n",
              "    <tr>\n",
              "      <th>78</th>\n",
              "      <td>jun-10</td>\n",
              "      <td>1041266</td>\n",
              "    </tr>\n",
              "  </tbody>\n",
              "</table>\n",
              "</div>"
            ],
            "text/plain": [
              "     Fecha  Subempleo\n",
              "6   dic-07    1155872\n",
              "24  jun-08    1130699\n",
              "42  dic-08     957978\n",
              "60  dic-09    1071615\n",
              "78  jun-10    1041266"
            ]
          },
          "metadata": {},
          "execution_count": 93
        }
      ]
    },
    {
      "cell_type": "code",
      "metadata": {
        "colab": {
          "base_uri": "https://localhost:8080/",
          "height": 206
        },
        "id": "DpSVGNMwWbdz",
        "outputId": "f18e0477-f0e6-48b3-e380-595e8f013ef9"
      },
      "source": [
        "empAdeDF['Adecuado'] = empAdeDF['Adecuado'].str.replace('.','').astype(int)\n",
        "empAdeDF.head()"
      ],
      "id": "DpSVGNMwWbdz",
      "execution_count": 94,
      "outputs": [
        {
          "output_type": "execute_result",
          "data": {
            "text/html": [
              "<div>\n",
              "<style scoped>\n",
              "    .dataframe tbody tr th:only-of-type {\n",
              "        vertical-align: middle;\n",
              "    }\n",
              "\n",
              "    .dataframe tbody tr th {\n",
              "        vertical-align: top;\n",
              "    }\n",
              "\n",
              "    .dataframe thead th {\n",
              "        text-align: right;\n",
              "    }\n",
              "</style>\n",
              "<table border=\"1\" class=\"dataframe\">\n",
              "  <thead>\n",
              "    <tr style=\"text-align: right;\">\n",
              "      <th></th>\n",
              "      <th>Fecha</th>\n",
              "      <th>Adecuado</th>\n",
              "    </tr>\n",
              "  </thead>\n",
              "  <tbody>\n",
              "    <tr>\n",
              "      <th>5</th>\n",
              "      <td>dic-07</td>\n",
              "      <td>2737158</td>\n",
              "    </tr>\n",
              "    <tr>\n",
              "      <th>23</th>\n",
              "      <td>jun-08</td>\n",
              "      <td>2750595</td>\n",
              "    </tr>\n",
              "    <tr>\n",
              "      <th>41</th>\n",
              "      <td>dic-08</td>\n",
              "      <td>2858659</td>\n",
              "    </tr>\n",
              "    <tr>\n",
              "      <th>59</th>\n",
              "      <td>dic-09</td>\n",
              "      <td>2565691</td>\n",
              "    </tr>\n",
              "    <tr>\n",
              "      <th>77</th>\n",
              "      <td>jun-10</td>\n",
              "      <td>2715542</td>\n",
              "    </tr>\n",
              "  </tbody>\n",
              "</table>\n",
              "</div>"
            ],
            "text/plain": [
              "     Fecha  Adecuado\n",
              "5   dic-07   2737158\n",
              "23  jun-08   2750595\n",
              "41  dic-08   2858659\n",
              "59  dic-09   2565691\n",
              "77  jun-10   2715542"
            ]
          },
          "metadata": {},
          "execution_count": 94
        }
      ]
    },
    {
      "cell_type": "code",
      "metadata": {
        "colab": {
          "base_uri": "https://localhost:8080/",
          "height": 206
        },
        "id": "6UCR_oH0WbjW",
        "outputId": "a43da29d-30c4-4669-d64d-00a2bcb88c10"
      },
      "source": [
        "noPlenoDF['No_pleno'] = noPlenoDF['No_pleno'].str.replace('.','').astype(int)\n",
        "noPlenoDF.head()"
      ],
      "id": "6UCR_oH0WbjW",
      "execution_count": 95,
      "outputs": [
        {
          "output_type": "execute_result",
          "data": {
            "text/html": [
              "<div>\n",
              "<style scoped>\n",
              "    .dataframe tbody tr th:only-of-type {\n",
              "        vertical-align: middle;\n",
              "    }\n",
              "\n",
              "    .dataframe tbody tr th {\n",
              "        vertical-align: top;\n",
              "    }\n",
              "\n",
              "    .dataframe thead th {\n",
              "        text-align: right;\n",
              "    }\n",
              "</style>\n",
              "<table border=\"1\" class=\"dataframe\">\n",
              "  <thead>\n",
              "    <tr style=\"text-align: right;\">\n",
              "      <th></th>\n",
              "      <th>Fecha</th>\n",
              "      <th>No_pleno</th>\n",
              "    </tr>\n",
              "  </thead>\n",
              "  <tbody>\n",
              "    <tr>\n",
              "      <th>10</th>\n",
              "      <td>dic-07</td>\n",
              "      <td>1504000</td>\n",
              "    </tr>\n",
              "    <tr>\n",
              "      <th>28</th>\n",
              "      <td>jun-08</td>\n",
              "      <td>1688693</td>\n",
              "    </tr>\n",
              "    <tr>\n",
              "      <th>46</th>\n",
              "      <td>dic-08</td>\n",
              "      <td>1649349</td>\n",
              "    </tr>\n",
              "    <tr>\n",
              "      <th>64</th>\n",
              "      <td>dic-09</td>\n",
              "      <td>1778578</td>\n",
              "    </tr>\n",
              "    <tr>\n",
              "      <th>82</th>\n",
              "      <td>jun-10</td>\n",
              "      <td>1811893</td>\n",
              "    </tr>\n",
              "  </tbody>\n",
              "</table>\n",
              "</div>"
            ],
            "text/plain": [
              "     Fecha  No_pleno\n",
              "10  dic-07   1504000\n",
              "28  jun-08   1688693\n",
              "46  dic-08   1649349\n",
              "64  dic-09   1778578\n",
              "82  jun-10   1811893"
            ]
          },
          "metadata": {},
          "execution_count": 95
        }
      ]
    },
    {
      "cell_type": "code",
      "metadata": {
        "colab": {
          "base_uri": "https://localhost:8080/",
          "height": 206
        },
        "id": "X8wHVdBqRpzS",
        "outputId": "353831b6-d629-4eca-dd40-4ba3431a8897"
      },
      "source": [
        "resMerge = pd.merge(subEmpDF, empAdeDF, on=['Fecha'])\n",
        "resMerge.head()"
      ],
      "id": "X8wHVdBqRpzS",
      "execution_count": 96,
      "outputs": [
        {
          "output_type": "execute_result",
          "data": {
            "text/html": [
              "<div>\n",
              "<style scoped>\n",
              "    .dataframe tbody tr th:only-of-type {\n",
              "        vertical-align: middle;\n",
              "    }\n",
              "\n",
              "    .dataframe tbody tr th {\n",
              "        vertical-align: top;\n",
              "    }\n",
              "\n",
              "    .dataframe thead th {\n",
              "        text-align: right;\n",
              "    }\n",
              "</style>\n",
              "<table border=\"1\" class=\"dataframe\">\n",
              "  <thead>\n",
              "    <tr style=\"text-align: right;\">\n",
              "      <th></th>\n",
              "      <th>Fecha</th>\n",
              "      <th>Subempleo</th>\n",
              "      <th>Adecuado</th>\n",
              "    </tr>\n",
              "  </thead>\n",
              "  <tbody>\n",
              "    <tr>\n",
              "      <th>0</th>\n",
              "      <td>dic-07</td>\n",
              "      <td>1155872</td>\n",
              "      <td>2737158</td>\n",
              "    </tr>\n",
              "    <tr>\n",
              "      <th>1</th>\n",
              "      <td>jun-08</td>\n",
              "      <td>1130699</td>\n",
              "      <td>2750595</td>\n",
              "    </tr>\n",
              "    <tr>\n",
              "      <th>2</th>\n",
              "      <td>dic-08</td>\n",
              "      <td>957978</td>\n",
              "      <td>2858659</td>\n",
              "    </tr>\n",
              "    <tr>\n",
              "      <th>3</th>\n",
              "      <td>dic-09</td>\n",
              "      <td>1071615</td>\n",
              "      <td>2565691</td>\n",
              "    </tr>\n",
              "    <tr>\n",
              "      <th>4</th>\n",
              "      <td>jun-10</td>\n",
              "      <td>1041266</td>\n",
              "      <td>2715542</td>\n",
              "    </tr>\n",
              "  </tbody>\n",
              "</table>\n",
              "</div>"
            ],
            "text/plain": [
              "    Fecha  Subempleo  Adecuado\n",
              "0  dic-07    1155872   2737158\n",
              "1  jun-08    1130699   2750595\n",
              "2  dic-08     957978   2858659\n",
              "3  dic-09    1071615   2565691\n",
              "4  jun-10    1041266   2715542"
            ]
          },
          "metadata": {},
          "execution_count": 96
        }
      ]
    },
    {
      "cell_type": "code",
      "metadata": {
        "colab": {
          "base_uri": "https://localhost:8080/",
          "height": 206
        },
        "id": "btxfVNAmRp1x",
        "outputId": "e80687a2-2d63-4ffa-89f2-e3664c2dd663"
      },
      "source": [
        "finMerge = pd.merge(resMerge, noPlenoDF, on=['Fecha'])\n",
        "finMerge.head()"
      ],
      "id": "btxfVNAmRp1x",
      "execution_count": 97,
      "outputs": [
        {
          "output_type": "execute_result",
          "data": {
            "text/html": [
              "<div>\n",
              "<style scoped>\n",
              "    .dataframe tbody tr th:only-of-type {\n",
              "        vertical-align: middle;\n",
              "    }\n",
              "\n",
              "    .dataframe tbody tr th {\n",
              "        vertical-align: top;\n",
              "    }\n",
              "\n",
              "    .dataframe thead th {\n",
              "        text-align: right;\n",
              "    }\n",
              "</style>\n",
              "<table border=\"1\" class=\"dataframe\">\n",
              "  <thead>\n",
              "    <tr style=\"text-align: right;\">\n",
              "      <th></th>\n",
              "      <th>Fecha</th>\n",
              "      <th>Subempleo</th>\n",
              "      <th>Adecuado</th>\n",
              "      <th>No_pleno</th>\n",
              "    </tr>\n",
              "  </thead>\n",
              "  <tbody>\n",
              "    <tr>\n",
              "      <th>0</th>\n",
              "      <td>dic-07</td>\n",
              "      <td>1155872</td>\n",
              "      <td>2737158</td>\n",
              "      <td>1504000</td>\n",
              "    </tr>\n",
              "    <tr>\n",
              "      <th>1</th>\n",
              "      <td>jun-08</td>\n",
              "      <td>1130699</td>\n",
              "      <td>2750595</td>\n",
              "      <td>1688693</td>\n",
              "    </tr>\n",
              "    <tr>\n",
              "      <th>2</th>\n",
              "      <td>dic-08</td>\n",
              "      <td>957978</td>\n",
              "      <td>2858659</td>\n",
              "      <td>1649349</td>\n",
              "    </tr>\n",
              "    <tr>\n",
              "      <th>3</th>\n",
              "      <td>dic-09</td>\n",
              "      <td>1071615</td>\n",
              "      <td>2565691</td>\n",
              "      <td>1778578</td>\n",
              "    </tr>\n",
              "    <tr>\n",
              "      <th>4</th>\n",
              "      <td>jun-10</td>\n",
              "      <td>1041266</td>\n",
              "      <td>2715542</td>\n",
              "      <td>1811893</td>\n",
              "    </tr>\n",
              "  </tbody>\n",
              "</table>\n",
              "</div>"
            ],
            "text/plain": [
              "    Fecha  Subempleo  Adecuado  No_pleno\n",
              "0  dic-07    1155872   2737158   1504000\n",
              "1  jun-08    1130699   2750595   1688693\n",
              "2  dic-08     957978   2858659   1649349\n",
              "3  dic-09    1071615   2565691   1778578\n",
              "4  jun-10    1041266   2715542   1811893"
            ]
          },
          "metadata": {},
          "execution_count": 97
        }
      ]
    },
    {
      "cell_type": "code",
      "metadata": {
        "colab": {
          "base_uri": "https://localhost:8080/",
          "height": 621
        },
        "id": "lKK0UZ5uRp36",
        "outputId": "96e13e36-4fb9-4931-9203-b200edaeedd2"
      },
      "source": [
        "plt.figure(figsize=(16, 10))\n",
        "plt.title('Subempleo, Empleo Adecuado - Ecuador')\n",
        "plt.plot(finMerge.Fecha, finMerge.Subempleo, 'y.-')\n",
        "plt.plot(finMerge.Fecha, finMerge.Adecuado, 'r.-')\n",
        "plt.plot(finMerge.Fecha, finMerge.No_pleno, 'b.-')\n",
        "plt.xticks(finMerge.Fecha[::3].tolist())\n",
        "plt.xlabel('Fecha')\n",
        "plt.ylabel('Total')\n",
        "plt.legend(['Subempleo','Adecuado', 'No Adecuado'])\n",
        "plt.show()"
      ],
      "id": "lKK0UZ5uRp36",
      "execution_count": 98,
      "outputs": [
        {
          "output_type": "display_data",
          "data": {
            "image/png": "[encoded data removed]",
            "text/plain": [
              "<Figure size 1152x720 with 1 Axes>"
            ]
          },
          "metadata": {
            "needs_background": "light"
          }
        }
      ]
    },
    {
      "cell_type": "markdown",
      "metadata": {
        "id": "Apwx6SucaGKy"
      },
      "source": [
        "CONCLUSIÓN\n",
        "\n",
        "*   Despues de realizar el analisis de los datos de personas con empleo y sin empleo, se pudo notar el gran cambio en graficas que nos representas el aumento de desempleo.\n",
        "\n",
        "RECOMENDACIONES\n",
        "\n",
        "*  Transformar los datos, limpiar el dataset y revisar material de apoyo brindado por el docente.\n",
        "\n",
        "REFERENCIAS:\n",
        "\n",
        "- Dataset\n",
        "https://www.ecuadorencifras.gob.ec/estadisticas-laborales-octubre-2021/\n",
        "\n",
        "\n",
        "\n",
        "\n",
        "\n"
      ],
      "id": "Apwx6SucaGKy"
    }
  ]
}